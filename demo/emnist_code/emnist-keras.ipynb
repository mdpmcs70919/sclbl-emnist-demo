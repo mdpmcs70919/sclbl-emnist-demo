{
  "cells": [
    {
      "cell_type": "markdown",
      "source": [
        "### load library"
      ],
      "metadata": {
        "_uuid": "31de920b8841625394bdabffdf80b436efc56b0d"
      }
    },
    {
      "cell_type": "code",
      "source": [
        "import numpy as np # linear algebra\n",
        "import pandas as pd # data processing, CSV file I/O (e.g. pd.read_csv)"
      ],
      "outputs": [],
      "execution_count": 1,
      "metadata": {
        "_uuid": "8f2839f25d086af736a60e9eeb907d3b93b6e0e5",
        "_cell_guid": "b1076dfc-b9ad-4769-8c92-a6c4dae69d19",
        "trusted": true,
        "collapsed": true,
        "execution": {
          "iopub.status.busy": "2021-01-08T20:10:03.869Z",
          "iopub.execute_input": "2021-01-08T20:10:03.881Z",
          "iopub.status.idle": "2021-01-08T20:10:03.893Z",
          "shell.execute_reply": "2021-01-08T20:10:03.831Z"
        }
      }
    },
    {
      "cell_type": "code",
      "source": [
        "from tensorflow import keras\n",
        "# from tensorflow.keras.utils import to_categorical\n",
        "# from tensorflow.keras.models import Sequential\n",
        "# from tensorflow.keras.layers import Conv2D, MaxPooling2D, Flatten, Dense, Dropout\n",
        "# from tensorflow.keras.losses import categorical_crossentropy\n",
        "# from tensorflow.keras.optimizers import Adam\n",
        "# from tensorflow.keras.preprocessing.image import ImageDataGenerator\n",
        "\n",
        "import matplotlib.pyplot as plt"
      ],
      "outputs": [],
      "execution_count": 2,
      "metadata": {
        "_cell_guid": "79c7e3d0-c299-4dcb-8224-4455121ee9b0",
        "_uuid": "d629ff2d2480ee46fbb7e2d37f6b5fab8052498a",
        "trusted": true,
        "collapsed": true,
        "execution": {
          "iopub.status.busy": "2021-01-08T20:10:03.908Z",
          "iopub.execute_input": "2021-01-08T20:10:03.919Z",
          "shell.execute_reply": "2021-01-08T20:10:05.843Z",
          "iopub.status.idle": "2021-01-08T20:10:05.860Z"
        }
      }
    },
    {
      "cell_type": "markdown",
      "source": [
        "### Load dataset "
      ],
      "metadata": {
        "_uuid": "9b016437d3f8a6460a8763129d010e449f1aa607"
      }
    },
    {
      "cell_type": "code",
      "source": [
        "train_data_path = '../emnist_input/emnist-balanced-train.csv'\n",
        "test_data_path = '../emnist_input/emnist-balanced-test.csv'"
      ],
      "outputs": [],
      "execution_count": 3,
      "metadata": {
        "trusted": true,
        "collapsed": true,
        "_uuid": "1f4399ac5ab8fb5b48b4d4d944f51bca6814816c",
        "execution": {
          "iopub.status.busy": "2021-01-08T20:10:05.880Z",
          "iopub.execute_input": "2021-01-08T20:10:05.889Z",
          "iopub.status.idle": "2021-01-08T20:10:05.904Z",
          "shell.execute_reply": "2021-01-08T20:10:05.942Z"
        }
      }
    },
    {
      "cell_type": "code",
      "source": [
        "train_data = pd.read_csv(train_data_path, header=None)"
      ],
      "outputs": [],
      "execution_count": 4,
      "metadata": {
        "trusted": true,
        "_uuid": "a3bba436039a3c87639fee9fb0f7963933450871",
        "collapsed": true,
        "execution": {
          "iopub.status.busy": "2021-01-08T20:10:05.917Z",
          "iopub.execute_input": "2021-01-08T20:10:05.927Z",
          "shell.execute_reply": "2021-01-08T20:10:11.421Z",
          "iopub.status.idle": "2021-01-08T20:10:11.065Z"
        }
      }
    },
    {
      "cell_type": "code",
      "source": [
        "train_data.head(10)"
      ],
      "outputs": [
        {
          "output_type": "execute_result",
          "execution_count": 5,
          "data": {
            "text/plain": "   0    1    2    3    4    5    6    7    8    9    ...  775  776  777  778  \\\n0   45    0    0    0    0    0    0    0    0    0  ...    0    0    0    0   \n1   36    0    0    0    0    0    0    0    0    0  ...    0    0    0    0   \n2   43    0    0    0    0    0    0    0    0    0  ...    0    0    0    0   \n3   15    0    0    0    0    0    0    0    0    0  ...    0    0    0    0   \n4    4    0    0    0    0    0    0    0    0    0  ...    0    0    0    0   \n5   42    0    0    0    0    0    0    0    0    0  ...    0    0    0    0   \n6   26    0    0    0    0    0    0    0    0    0  ...    0    0    0    0   \n7   32    0    0    0    0    0    0    0    0    0  ...    0    0    0    0   \n8   20    0    0    0    0    0    0    0    0    0  ...    0    0    0    0   \n9    1    0    0    0    0    0    0    0    0    0  ...    0    0    0    0   \n\n   779  780  781  782  783  784  \n0    0    0    0    0    0    0  \n1    0    0    0    0    0    0  \n2    0    0    0    0    0    0  \n3    0    0    0    0    0    0  \n4    0    0    0    0    0    0  \n5    0    0    0    0    0    0  \n6    0    0    0    0    0    0  \n7    0    0    0    0    0    0  \n8    0    0    0    0    0    0  \n9    0    0    0    0    0    0  \n\n[10 rows x 785 columns]",
            "text/html": "<div>\n<style scoped>\n    .dataframe tbody tr th:only-of-type {\n        vertical-align: middle;\n    }\n\n    .dataframe tbody tr th {\n        vertical-align: top;\n    }\n\n    .dataframe thead th {\n        text-align: right;\n    }\n</style>\n<table border=\"1\" class=\"dataframe\">\n  <thead>\n    <tr style=\"text-align: right;\">\n      <th></th>\n      <th>0</th>\n      <th>1</th>\n      <th>2</th>\n      <th>3</th>\n      <th>4</th>\n      <th>5</th>\n      <th>6</th>\n      <th>7</th>\n      <th>8</th>\n      <th>9</th>\n      <th>...</th>\n      <th>775</th>\n      <th>776</th>\n      <th>777</th>\n      <th>778</th>\n      <th>779</th>\n      <th>780</th>\n      <th>781</th>\n      <th>782</th>\n      <th>783</th>\n      <th>784</th>\n    </tr>\n  </thead>\n  <tbody>\n    <tr>\n      <th>0</th>\n      <td>45</td>\n      <td>0</td>\n      <td>0</td>\n      <td>0</td>\n      <td>0</td>\n      <td>0</td>\n      <td>0</td>\n      <td>0</td>\n      <td>0</td>\n      <td>0</td>\n      <td>...</td>\n      <td>0</td>\n      <td>0</td>\n      <td>0</td>\n      <td>0</td>\n      <td>0</td>\n      <td>0</td>\n      <td>0</td>\n      <td>0</td>\n      <td>0</td>\n      <td>0</td>\n    </tr>\n    <tr>\n      <th>1</th>\n      <td>36</td>\n      <td>0</td>\n      <td>0</td>\n      <td>0</td>\n      <td>0</td>\n      <td>0</td>\n      <td>0</td>\n      <td>0</td>\n      <td>0</td>\n      <td>0</td>\n      <td>...</td>\n      <td>0</td>\n      <td>0</td>\n      <td>0</td>\n      <td>0</td>\n      <td>0</td>\n      <td>0</td>\n      <td>0</td>\n      <td>0</td>\n      <td>0</td>\n      <td>0</td>\n    </tr>\n    <tr>\n      <th>2</th>\n      <td>43</td>\n      <td>0</td>\n      <td>0</td>\n      <td>0</td>\n      <td>0</td>\n      <td>0</td>\n      <td>0</td>\n      <td>0</td>\n      <td>0</td>\n      <td>0</td>\n      <td>...</td>\n      <td>0</td>\n      <td>0</td>\n      <td>0</td>\n      <td>0</td>\n      <td>0</td>\n      <td>0</td>\n      <td>0</td>\n      <td>0</td>\n      <td>0</td>\n      <td>0</td>\n    </tr>\n    <tr>\n      <th>3</th>\n      <td>15</td>\n      <td>0</td>\n      <td>0</td>\n      <td>0</td>\n      <td>0</td>\n      <td>0</td>\n      <td>0</td>\n      <td>0</td>\n      <td>0</td>\n      <td>0</td>\n      <td>...</td>\n      <td>0</td>\n      <td>0</td>\n      <td>0</td>\n      <td>0</td>\n      <td>0</td>\n      <td>0</td>\n      <td>0</td>\n      <td>0</td>\n      <td>0</td>\n      <td>0</td>\n    </tr>\n    <tr>\n      <th>4</th>\n      <td>4</td>\n      <td>0</td>\n      <td>0</td>\n      <td>0</td>\n      <td>0</td>\n      <td>0</td>\n      <td>0</td>\n      <td>0</td>\n      <td>0</td>\n      <td>0</td>\n      <td>...</td>\n      <td>0</td>\n      <td>0</td>\n      <td>0</td>\n      <td>0</td>\n      <td>0</td>\n      <td>0</td>\n      <td>0</td>\n      <td>0</td>\n      <td>0</td>\n      <td>0</td>\n    </tr>\n    <tr>\n      <th>5</th>\n      <td>42</td>\n      <td>0</td>\n      <td>0</td>\n      <td>0</td>\n      <td>0</td>\n      <td>0</td>\n      <td>0</td>\n      <td>0</td>\n      <td>0</td>\n      <td>0</td>\n      <td>...</td>\n      <td>0</td>\n      <td>0</td>\n      <td>0</td>\n      <td>0</td>\n      <td>0</td>\n      <td>0</td>\n      <td>0</td>\n      <td>0</td>\n      <td>0</td>\n      <td>0</td>\n    </tr>\n    <tr>\n      <th>6</th>\n      <td>26</td>\n      <td>0</td>\n      <td>0</td>\n      <td>0</td>\n      <td>0</td>\n      <td>0</td>\n      <td>0</td>\n      <td>0</td>\n      <td>0</td>\n      <td>0</td>\n      <td>...</td>\n      <td>0</td>\n      <td>0</td>\n      <td>0</td>\n      <td>0</td>\n      <td>0</td>\n      <td>0</td>\n      <td>0</td>\n      <td>0</td>\n      <td>0</td>\n      <td>0</td>\n    </tr>\n    <tr>\n      <th>7</th>\n      <td>32</td>\n      <td>0</td>\n      <td>0</td>\n      <td>0</td>\n      <td>0</td>\n      <td>0</td>\n      <td>0</td>\n      <td>0</td>\n      <td>0</td>\n      <td>0</td>\n      <td>...</td>\n      <td>0</td>\n      <td>0</td>\n      <td>0</td>\n      <td>0</td>\n      <td>0</td>\n      <td>0</td>\n      <td>0</td>\n      <td>0</td>\n      <td>0</td>\n      <td>0</td>\n    </tr>\n    <tr>\n      <th>8</th>\n      <td>20</td>\n      <td>0</td>\n      <td>0</td>\n      <td>0</td>\n      <td>0</td>\n      <td>0</td>\n      <td>0</td>\n      <td>0</td>\n      <td>0</td>\n      <td>0</td>\n      <td>...</td>\n      <td>0</td>\n      <td>0</td>\n      <td>0</td>\n      <td>0</td>\n      <td>0</td>\n      <td>0</td>\n      <td>0</td>\n      <td>0</td>\n      <td>0</td>\n      <td>0</td>\n    </tr>\n    <tr>\n      <th>9</th>\n      <td>1</td>\n      <td>0</td>\n      <td>0</td>\n      <td>0</td>\n      <td>0</td>\n      <td>0</td>\n      <td>0</td>\n      <td>0</td>\n      <td>0</td>\n      <td>0</td>\n      <td>...</td>\n      <td>0</td>\n      <td>0</td>\n      <td>0</td>\n      <td>0</td>\n      <td>0</td>\n      <td>0</td>\n      <td>0</td>\n      <td>0</td>\n      <td>0</td>\n      <td>0</td>\n    </tr>\n  </tbody>\n</table>\n<p>10 rows × 785 columns</p>\n</div>"
          },
          "metadata": {}
        }
      ],
      "execution_count": 5,
      "metadata": {
        "trusted": true,
        "_uuid": "98ea8bd7477906d87fff464cf207cbb0d1a86c22",
        "collapsed": true,
        "execution": {
          "iopub.status.busy": "2021-01-08T20:10:11.079Z",
          "iopub.execute_input": "2021-01-08T20:10:11.088Z",
          "iopub.status.idle": "2021-01-08T20:10:11.168Z",
          "shell.execute_reply": "2021-01-08T20:10:11.426Z"
        }
      }
    },
    {
      "cell_type": "code",
      "source": [
        "# The classes of this balanced dataset are as follows. Index into it based on class label\n",
        "class_mapping = '0123456789ABCDEFGHIJKLMNOPQRSTUVWXYZabdefghnqrt'\n",
        "# source data: https://arxiv.org/pdf/1702.05373.pdf"
      ],
      "outputs": [],
      "execution_count": 6,
      "metadata": {
        "trusted": true,
        "collapsed": true,
        "_uuid": "f2fb5113d990cab102b2e9f657baa3a8da129400",
        "execution": {
          "iopub.status.busy": "2021-01-08T20:10:11.183Z",
          "iopub.execute_input": "2021-01-08T20:10:11.193Z",
          "iopub.status.idle": "2021-01-08T20:10:11.211Z",
          "shell.execute_reply": "2021-01-08T20:10:11.431Z"
        }
      }
    },
    {
      "cell_type": "code",
      "source": [
        "class_mapping[34]"
      ],
      "outputs": [
        {
          "output_type": "execute_result",
          "execution_count": 7,
          "data": {
            "text/plain": "'Y'"
          },
          "metadata": {}
        }
      ],
      "execution_count": 7,
      "metadata": {
        "trusted": true,
        "_uuid": "580fafe36c21d0f3d3911b2065f9f09d786db370",
        "collapsed": true,
        "execution": {
          "iopub.status.busy": "2021-01-08T20:10:11.228Z",
          "iopub.execute_input": "2021-01-08T20:10:11.237Z",
          "iopub.status.idle": "2021-01-08T20:10:11.256Z",
          "shell.execute_reply": "2021-01-08T20:10:11.436Z"
        }
      }
    },
    {
      "cell_type": "code",
      "source": [
        "train_data.shape"
      ],
      "outputs": [
        {
          "output_type": "execute_result",
          "execution_count": 8,
          "data": {
            "text/plain": "(112800, 785)"
          },
          "metadata": {}
        }
      ],
      "execution_count": 8,
      "metadata": {
        "trusted": true,
        "_uuid": "bd26cc4af46e4a09316da300f8513f1a9f6fa260",
        "collapsed": true,
        "execution": {
          "iopub.status.busy": "2021-01-08T20:10:11.269Z",
          "iopub.execute_input": "2021-01-08T20:10:11.277Z",
          "iopub.status.idle": "2021-01-08T20:10:11.295Z",
          "shell.execute_reply": "2021-01-08T20:10:11.442Z"
        }
      }
    },
    {
      "cell_type": "markdown",
      "source": [
        "### Data is flipped"
      ],
      "metadata": {
        "_uuid": "0d9acbcee4de0ea29f70ac51394b941d41def7b1"
      }
    },
    {
      "cell_type": "code",
      "source": [
        "num_classes = len(train_data[0].unique())\n",
        "row_num = 8\n",
        "\n",
        "plt.imshow(train_data.values[row_num, 1:].reshape([28, 28]), cmap='Greys_r')\n",
        "plt.show()\n",
        "\n",
        "img_flip = np.transpose(train_data.values[row_num,1:].reshape(28, 28), axes=[1,0]) # img_size * img_size arrays\n",
        "plt.imshow(img_flip, cmap='Greys_r')\n",
        "\n",
        "plt.show()"
      ],
      "outputs": [
        {
          "output_type": "display_data",
          "data": {
            "text/plain": "<Figure size 432x288 with 1 Axes>",
            "image/png": "[encoded data removed]"
          },
          "metadata": {
            "needs_background": "light"
          }
        },
        {
          "output_type": "display_data",
          "data": {
            "text/plain": "<Figure size 432x288 with 1 Axes>",
            "image/png": "[encoded data removed]"
          },
          "metadata": {
            "needs_background": "light"
          }
        }
      ],
      "execution_count": 9,
      "metadata": {
        "trusted": true,
        "_uuid": "08867c5c0faab423312281eea41015ad10648b66",
        "collapsed": true,
        "execution": {
          "iopub.status.busy": "2021-01-08T20:10:11.309Z",
          "iopub.execute_input": "2021-01-08T20:10:11.318Z",
          "shell.execute_reply": "2021-01-08T20:10:11.447Z",
          "iopub.status.idle": "2021-01-08T20:10:11.343Z"
        }
      }
    },
    {
      "cell_type": "code",
      "source": [
        "def show_img(data, row_num):\n",
        "    img_flip = np.transpose(data.values[row_num,1:].reshape(28, 28), axes=[1,0]) # img_size * img_size arrays\n",
        "    plt.title('Class: ' + str(data.values[row_num,0]) + ', Label: ' + str(class_mapping[data.values[row_num,0]]))\n",
        "    plt.imshow(img_flip, cmap='Greys_r')"
      ],
      "outputs": [],
      "execution_count": 10,
      "metadata": {
        "trusted": true,
        "collapsed": true,
        "_uuid": "4a3d24bf1e6c5527f13a669704cafd4cc84ef4ca",
        "execution": {
          "iopub.status.busy": "2021-01-08T20:10:11.357Z",
          "iopub.execute_input": "2021-01-08T20:10:11.367Z",
          "iopub.status.idle": "2021-01-08T20:10:11.384Z",
          "shell.execute_reply": "2021-01-08T20:10:11.452Z"
        }
      }
    },
    {
      "cell_type": "code",
      "source": [
        "show_img(train_data, 149)"
      ],
      "outputs": [
        {
          "output_type": "display_data",
          "data": {
            "text/plain": "<Figure size 432x288 with 1 Axes>",
            "image/png": "[encoded data removed]"
          },
          "metadata": {
            "needs_background": "light"
          }
        }
      ],
      "execution_count": 11,
      "metadata": {
        "trusted": true,
        "_uuid": "7921f478d1d79dcc480f7987ce20340167b894c1",
        "collapsed": true,
        "execution": {
          "iopub.status.busy": "2021-01-08T20:10:11.399Z",
          "iopub.execute_input": "2021-01-08T20:10:11.410Z",
          "iopub.status.idle": "2021-01-08T20:10:11.524Z",
          "shell.execute_reply": "2021-01-08T20:10:11.458Z"
        }
      }
    },
    {
      "cell_type": "code",
      "source": [
        "# 10 digits, 26 letters, and 11 capital letters that are different looking from their lowercase counterparts\n",
        "num_classes = 47 \n",
        "img_size = 28\n",
        "\n",
        "def img_label_load(data_path, num_classes=None):\n",
        "    data = pd.read_csv(data_path, header=None)\n",
        "    data_rows = len(data)\n",
        "    if not num_classes:\n",
        "        num_classes = len(data[0].unique())\n",
        "    \n",
        "    # this assumes square imgs. Should be 28x28\n",
        "    img_size = int(np.sqrt(len(data.iloc[0][1:])))\n",
        "    \n",
        "    # Images need to be transposed. This line also does the reshaping needed.\n",
        "    imgs = np.transpose(data.values[:,1:].reshape(data_rows, img_size, img_size, 1), axes=[0,2,1,3]) # img_size * img_size arrays\n",
        "    \n",
        "    labels = keras.utils.to_categorical(data.values[:,0], num_classes) # one-hot encoding vectors\n",
        "    \n",
        "    return imgs/255., labels\n",
        "\n"
      ],
      "outputs": [],
      "execution_count": 12,
      "metadata": {
        "trusted": true,
        "collapsed": true,
        "_uuid": "5385a804fd7eda7ca00cb874be10dcc85e9af19e",
        "execution": {
          "iopub.status.busy": "2021-01-08T20:10:11.536Z",
          "iopub.execute_input": "2021-01-08T20:10:11.544Z",
          "iopub.status.idle": "2021-01-08T20:10:11.553Z",
          "shell.execute_reply": "2021-01-08T20:10:11.464Z"
        }
      }
    },
    {
      "cell_type": "markdown",
      "source": [
        "### model, compile"
      ],
      "metadata": {
        "_uuid": "f7f3744ebae007d1150e96f6c9d23896bf0cc3ce"
      }
    },
    {
      "cell_type": "code",
      "source": [
        "model = keras.models.Sequential()\n",
        "\n",
        "# model.add(keras.layers.Reshape((img_size,img_size,1), input_shape=(784,)))\n",
        "model.add(keras.layers.Conv2D(filters=12, kernel_size=(5,5), strides=2, activation='relu', \n",
        "                              input_shape=(img_size,img_size,1)))\n",
        "# model.add(keras.layers.MaxPooling2D(pool_size=(2,2)))\n",
        "model.add(keras.layers.Dropout(.5))\n",
        "\n",
        "model.add(keras.layers.Conv2D(filters=18, kernel_size=(3,3) , strides=2, activation='relu'))\n",
        "# model.add(keras.layers.MaxPooling2D(pool_size=(2,2)))\n",
        "model.add(keras.layers.Dropout(.5))\n",
        "\n",
        "model.add(keras.layers.Conv2D(filters=24, kernel_size=(2,2), activation='relu'))\n",
        "# model.add(keras.layers.MaxPooling2D(pool_size=(2,2)))\n",
        "\n",
        "# model.add(keras.layers.Conv2D(filters=30, kernel_size=(3,3), activation='relu'))\n",
        "\n",
        "model.add(keras.layers.Flatten())\n",
        "model.add(keras.layers.Dense(units=150, activation='relu'))\n",
        "model.add(keras.layers.Dense(units=num_classes, activation='softmax'))\n",
        "\n",
        "model.compile(loss='categorical_crossentropy', optimizer='Adam', metrics=['accuracy'])\n",
        "model.summary()"
      ],
      "outputs": [
        {
          "output_type": "stream",
          "name": "stdout",
          "text": [
            "Model: \"sequential\"\n",
            "_________________________________________________________________\n",
            "Layer (type)                 Output Shape              Param #   \n",
            "=================================================================\n",
            "conv2d (Conv2D)              (None, 12, 12, 12)        312       \n",
            "_________________________________________________________________\n",
            "dropout (Dropout)            (None, 12, 12, 12)        0         \n",
            "_________________________________________________________________\n",
            "conv2d_1 (Conv2D)            (None, 5, 5, 18)          1962      \n",
            "_________________________________________________________________\n",
            "dropout_1 (Dropout)          (None, 5, 5, 18)          0         \n",
            "_________________________________________________________________\n",
            "conv2d_2 (Conv2D)            (None, 4, 4, 24)          1752      \n",
            "_________________________________________________________________\n",
            "flatten (Flatten)            (None, 384)               0         \n",
            "_________________________________________________________________\n",
            "dense (Dense)                (None, 150)               57750     \n",
            "_________________________________________________________________\n",
            "dense_1 (Dense)              (None, 47)                7097      \n",
            "=================================================================\n",
            "Total params: 68,873\n",
            "Trainable params: 68,873\n",
            "Non-trainable params: 0\n",
            "_________________________________________________________________\n"
          ]
        }
      ],
      "execution_count": 13,
      "metadata": {
        "trusted": true,
        "_uuid": "197e457ae115c85fe96db9621fd296978a62502c",
        "collapsed": true,
        "execution": {
          "iopub.status.busy": "2021-01-08T20:10:11.565Z",
          "iopub.execute_input": "2021-01-08T20:10:11.572Z",
          "iopub.status.idle": "2021-01-08T20:10:12.501Z",
          "shell.execute_reply": "2021-01-08T20:10:12.479Z"
        }
      }
    },
    {
      "cell_type": "code",
      "source": [
        "for layer in model.layers:\n",
        "    print(layer.get_output_at(0).get_shape().as_list())\n"
      ],
      "outputs": [
        {
          "output_type": "stream",
          "name": "stdout",
          "text": [
            "[None, 12, 12, 12]\n",
            "[None, 12, 12, 12]\n",
            "[None, 5, 5, 18]\n",
            "[None, 5, 5, 18]\n",
            "[None, 4, 4, 24]\n",
            "[None, 384]\n",
            "[None, 150]\n",
            "[None, 47]\n"
          ]
        }
      ],
      "execution_count": 14,
      "metadata": {
        "trusted": true,
        "_uuid": "35693aac7a868fce047dffa15a5c2c62a5943496",
        "collapsed": true,
        "execution": {
          "iopub.status.busy": "2021-01-08T20:10:12.514Z",
          "iopub.execute_input": "2021-01-08T20:10:12.523Z",
          "iopub.status.idle": "2021-01-08T20:10:12.538Z",
          "shell.execute_reply": "2021-01-08T20:10:12.485Z"
        }
      }
    },
    {
      "cell_type": "markdown",
      "source": [
        "### Train"
      ],
      "metadata": {
        "_uuid": "5fbd7a6b3c2f3ed6fc9d4e96ddecc7106d31b410"
      }
    },
    {
      "cell_type": "code",
      "source": [
        "X, y = img_label_load(train_data_path)\n",
        "print(X.shape)"
      ],
      "outputs": [
        {
          "output_type": "stream",
          "name": "stdout",
          "text": [
            "(112800, 28, 28, 1)\n"
          ]
        }
      ],
      "execution_count": 15,
      "metadata": {
        "trusted": true,
        "_uuid": "f77ca5ebdb6a2080248702f109bef0ca04ca4e9e",
        "collapsed": true,
        "execution": {
          "iopub.status.busy": "2021-01-08T20:10:12.551Z",
          "iopub.execute_input": "2021-01-08T20:10:12.560Z",
          "iopub.status.idle": "2021-01-08T20:10:18.580Z",
          "shell.execute_reply": "2021-01-08T20:10:18.566Z"
        }
      }
    },
    {
      "cell_type": "code",
      "source": [
        "data_generator = keras.preprocessing.image.ImageDataGenerator(validation_split=.2)\n",
        "## consider using this for more variety\n",
        "data_generator_with_aug = keras.preprocessing.image.ImageDataGenerator(validation_split=.2,\n",
        "                                            width_shift_range=.2, height_shift_range=.2,\n",
        "                                            rotation_range=60, zoom_range=.2, shear_range=.3)\n",
        "\n",
        "# if already ran this above, no need to do it again\n",
        "# X, y = img_label_load(train_data_path)\n",
        "# print(\"X.shape: \", X.shape)\n",
        "\n",
        "training_data_generator = data_generator.flow(X, y, subset='training')\n",
        "validation_data_generator = data_generator.flow(X, y, subset='validation')\n",
        "history = model.fit_generator(training_data_generator, \n",
        "                              steps_per_epoch=500, epochs=10, # can change epochs to 5\n",
        "                              validation_data=validation_data_generator)\n"
      ],
      "outputs": [
        {
          "output_type": "stream",
          "name": "stdout",
          "text": [
            "WARNING:tensorflow:From <ipython-input-16-690a4fed7a6b>:15: Model.fit_generator (from tensorflow.python.keras.engine.training) is deprecated and will be removed in a future version.\n",
            "Instructions for updating:\n",
            "Please use Model.fit, which supports generators.\n",
            "Epoch 1/10\n",
            "500/500 [==============================] - 3s 6ms/step - loss: 2.4830 - accuracy: 0.3297 - val_loss: 1.3892 - val_accuracy: 0.5965\b\b\b\b\b\b\b\b\b\b\b\b\b\b\b\b\b\b\b\b\b\b\b\b\b\b\b\b\b\b\b\b\b\b\b\b\b\b\n",
            "Epoch 2/10\n",
            "500/500 [==============================] - 3s 6ms/step - loss: 1.4722 - accuracy: 0.5693 - val_loss: 1.0479 - val_accuracy: 0.6895\b\b\b\b\b\b\b\b\b\b\b\b\b\b\b\b\b\b\b\b\b\b\b\b\b\b\b\b\b\b\b\b\b\b\b\b\b\b\n",
            "Epoch 3/10\n",
            "500/500 [==============================] - 3s 6ms/step - loss: 1.1846 - accuracy: 0.6422 - val_loss: 0.8865 - val_accuracy: 0.7247\b\b\b\b\b\b\b\b\b\b\b\b\b\b\b\b\b\b\b\b\b\b\b\b\b\b\b\b\b\b\b\b\b\b\b\b\b\b\n",
            "Epoch 4/10\n",
            "500/500 [==============================] - 3s 6ms/step - loss: 1.0418 - accuracy: 0.6765 - val_loss: 0.7923 - val_accuracy: 0.7513\b\b\b\b\b\b\b\b\b\b\b\b\b\b\b\b\b\b\b\b\b\b\b\b\b\b\b\b\b\b\b\b\b\b\b\b\b\b\n",
            "Epoch 5/10\n",
            "500/500 [==============================] - 3s 6ms/step - loss: 0.9474 - accuracy: 0.6989 - val_loss: 0.7201 - val_accuracy: 0.7668\b\b\b\b\b\b\b\b\b\b\b\b\b\b\b\b\b\b\b\b\b\b\b\b\b\b\b\b\b\b\b\b\b\b\b\b\b\b\n",
            "Epoch 6/10\n",
            "500/500 [==============================] - 3s 6ms/step - loss: 0.9072 - accuracy: 0.7172 - val_loss: 0.6826 - val_accuracy: 0.7827\b\b\b\b\b\b\b\b\b\b\b\b\b\b\b\b\b\b\b\b\b\b\b\b\b\b\b\b\b\b\b\b\b\b\b\b\b\b\n",
            "Epoch 7/10\n",
            "500/500 [==============================] - 3s 6ms/step - loss: 0.8342 - accuracy: 0.7315 - val_loss: 0.6522 - val_accuracy: 0.7911\b\b\b\b\b\b\b\b\b\b\b\b\b\b\b\b\b\b\b\b\b\b\b\b\b\b\b\b\b\b\b\b\b\b\b\b\b\b\n",
            "Epoch 8/10\n",
            "500/500 [==============================] - 3s 6ms/step - loss: 0.7978 - accuracy: 0.7416 - val_loss: 0.6357 - val_accuracy: 0.7969\b\b\b\b\b\b\b\b\b\b\b\b\b\b\b\b\b\b\b\b\b\b\b\b\b\b\b\b\b\b\b\b\b\b\b\b\b\b\n",
            "Epoch 9/10\n",
            "500/500 [==============================] - 3s 6ms/step - loss: 0.7721 - accuracy: 0.7494 - val_loss: 0.6099 - val_accuracy: 0.8039\b\b\b\b\b\b\b\b\b\b\b\b\b\b\b\b\b\b\b\b\b\b\b\b\b\b\b\b\b\b\b\b\b\b\b\b\b\b\n",
            "Epoch 10/10\n",
            "500/500 [==============================] - 3s 6ms/step - loss: 0.7544 - accuracy: 0.7516 - val_loss: 0.6054 - val_accuracy: 0.7963\b\b\b\b\b\b\b\b\b\b\b\b\b\b\b\b\b\b\b\b\b\b\b\b\b\b\b\b\b\b\b\b\b\b\b\b\b\b\n"
          ]
        }
      ],
      "execution_count": 16,
      "metadata": {
        "trusted": true,
        "_uuid": "a10897314dbbcef2233cab83b2cdb981533ccf3d",
        "scrolled": false,
        "collapsed": true,
        "execution": {
          "iopub.status.busy": "2021-01-08T20:10:18.595Z",
          "iopub.execute_input": "2021-01-08T20:10:18.604Z",
          "shell.execute_reply": "2021-01-08T20:10:49.960Z",
          "iopub.status.idle": "2021-01-08T20:10:49.970Z"
        }
      }
    },
    {
      "cell_type": "code",
      "source": [
        "test_X, test_y = img_label_load(test_data_path)\n",
        "test_data_generator = data_generator.flow(X, y)\n",
        "\n",
        "model.evaluate_generator(test_data_generator)"
      ],
      "outputs": [
        {
          "output_type": "stream",
          "name": "stdout",
          "text": [
            "WARNING:tensorflow:From <ipython-input-17-e462b9b9a17f>:4: Model.evaluate_generator (from tensorflow.python.keras.engine.training) is deprecated and will be removed in a future version.\n",
            "Instructions for updating:\n",
            "Please use Model.evaluate, which supports generators.\n"
          ]
        },
        {
          "output_type": "execute_result",
          "execution_count": 17,
          "data": {
            "text/plain": "[0.5791138410568237, 0.802180826663971]"
          },
          "metadata": {}
        }
      ],
      "execution_count": 17,
      "metadata": {
        "trusted": true,
        "_uuid": "14fb22d26d96914ca1c8111dd8f056915db9cf19",
        "collapsed": true,
        "execution": {
          "iopub.status.busy": "2021-01-08T20:10:49.985Z",
          "iopub.execute_input": "2021-01-08T20:10:49.995Z",
          "iopub.status.idle": "2021-01-08T20:10:55.829Z",
          "shell.execute_reply": "2021-01-08T20:10:55.876Z"
        }
      }
    },
    {
      "cell_type": "markdown",
      "source": [
        "### Look at some predictions\n"
      ],
      "metadata": {
        "_uuid": "3aa759dd7aa31e37dc48bc9a65b8c815ce273019"
      }
    },
    {
      "cell_type": "code",
      "source": [
        "test_data = pd.read_csv(test_data_path, header=None)\n",
        "show_img(test_data, 123)"
      ],
      "outputs": [
        {
          "output_type": "display_data",
          "data": {
            "text/plain": "<Figure size 432x288 with 1 Axes>",
            "image/png": "[encoded data removed]"
          },
          "metadata": {
            "needs_background": "light"
          }
        }
      ],
      "execution_count": 18,
      "metadata": {
        "trusted": true,
        "_uuid": "b2267b783e2b08ef23ec5d7bc68c6b0e14b1d2fd",
        "execution": {
          "iopub.status.busy": "2021-01-08T20:10:55.844Z",
          "iopub.execute_input": "2021-01-08T20:10:55.854Z",
          "iopub.status.idle": "2021-01-08T20:10:56.930Z",
          "shell.execute_reply": "2021-01-08T20:10:56.916Z"
        }
      }
    },
    {
      "cell_type": "code",
      "source": [
        "X_test, y_test = img_label_load(test_data_path) # loads images and orients for model"
      ],
      "outputs": [],
      "execution_count": 19,
      "metadata": {
        "trusted": true,
        "collapsed": true,
        "_uuid": "60f2c48a1923aa302d24e6a0ee019fc9aba950d1",
        "execution": {
          "iopub.status.busy": "2021-01-08T20:10:56.946Z",
          "iopub.execute_input": "2021-01-08T20:10:56.954Z",
          "shell.execute_reply": "2021-01-08T20:10:57.975Z",
          "iopub.status.idle": "2021-01-08T20:10:57.987Z"
        }
      }
    },
    {
      "cell_type": "code",
      "source": [
        "def run_prediction(idx):\n",
        "    result = np.argmax(model.predict(X_test[idx:idx+1]))\n",
        "    print('Prediction: ', result, ', Char: ', class_mapping[result])\n",
        "    print('Label: ', test_data.values[idx,0])\n",
        "    show_img(test_data, idx)"
      ],
      "outputs": [],
      "execution_count": 20,
      "metadata": {
        "trusted": true,
        "collapsed": true,
        "_uuid": "2a8b2f8b90f9ee6aa1cc169b58b637da49735ab7",
        "execution": {
          "iopub.status.busy": "2021-01-08T20:10:58.002Z",
          "iopub.execute_input": "2021-01-08T20:10:58.011Z",
          "iopub.status.idle": "2021-01-08T20:10:58.026Z",
          "shell.execute_reply": "2021-01-08T20:10:58.066Z"
        }
      }
    },
    {
      "cell_type": "code",
      "source": [
        "import random\n",
        "\n",
        "for _ in range(1,10):\n",
        "    idx = random.randint(0, 47-1)\n",
        "    run_prediction(idx)"
      ],
      "outputs": [
        {
          "output_type": "stream",
          "name": "stdout",
          "text": [
            "Prediction:  1 , Char:  1\n",
            "Label:  1\n",
            "Prediction:  39 , Char:  e\n",
            "Label:  39\n",
            "Prediction:  12 , Char:  C\n",
            "Label:  12\n",
            "Prediction:  39 , Char:  e\n",
            "Label:  39\n",
            "Prediction:  5 , Char:  5\n",
            "Label:  5\n",
            "Prediction:  44 , Char:  q\n",
            "Label:  16\n",
            "Prediction:  12 , Char:  C\n",
            "Label:  12\n",
            "Prediction:  28 , Char:  S\n",
            "Label:  28\n",
            "Prediction:  41 , Char:  g\n",
            "Label:  44\n"
          ]
        },
        {
          "output_type": "display_data",
          "data": {
            "text/plain": "<Figure size 432x288 with 1 Axes>",
            "image/png": "[encoded data removed]"
          },
          "metadata": {
            "needs_background": "light"
          }
        }
      ],
      "execution_count": 21,
      "metadata": {
        "trusted": true,
        "_uuid": "30c86d25f4147a803278fa9e5838449656f2095a",
        "execution": {
          "iopub.status.busy": "2021-01-08T20:10:58.041Z",
          "iopub.execute_input": "2021-01-08T20:10:58.051Z",
          "shell.execute_reply": "2021-01-08T20:10:58.517Z",
          "iopub.status.idle": "2021-01-08T20:10:58.469Z"
        }
      }
    },
    {
      "cell_type": "code",
      "source": [
        "show_img(test_data, 123)\n",
        "np.argmax(y_test[123])"
      ],
      "outputs": [
        {
          "output_type": "execute_result",
          "execution_count": 22,
          "data": {
            "text/plain": "38"
          },
          "metadata": {}
        },
        {
          "output_type": "display_data",
          "data": {
            "text/plain": "<Figure size 432x288 with 1 Axes>",
            "image/png": "[encoded data removed]"
          },
          "metadata": {
            "needs_background": "light"
          }
        }
      ],
      "execution_count": 22,
      "metadata": {
        "trusted": true,
        "_uuid": "be1a2897df65088691d96c59331ff34420e22d45",
        "execution": {
          "iopub.status.busy": "2021-01-08T20:10:58.483Z",
          "iopub.execute_input": "2021-01-08T20:10:58.492Z",
          "iopub.status.idle": "2021-01-08T20:10:58.597Z",
          "shell.execute_reply": "2021-01-08T20:10:58.586Z"
        }
      }
    },
    {
      "cell_type": "markdown",
      "source": [
        "### Keras exports"
      ],
      "metadata": {
        "trusted": true,
        "collapsed": true,
        "_uuid": "2695e4eda1240fb4c3b5eaa7b3b2f18ec3418324"
      }
    },
    {
      "cell_type": "code",
      "source": [
        "with open('model.json', 'w') as f:\n",
        "    f.write(model.to_json())\n",
        "model.save_weights('./model.h5')\n",
        "\n",
        "model.save('./full_model.h5')\n",
        "!dir\n",
        "# .. or !ls -al on linux/macos"
      ],
      "outputs": [
        {
          "output_type": "stream",
          "name": "stdout",
          "text": [
            " Volume in drive C is Windows\n",
            " Volume Serial Number is CCBB-47BE\n",
            "\n",
            " Directory of C:\\Users\\robin\\Desktop\\emnist_fit\\emnist_code\n",
            "\n",
            "01/08/2021  17:21    <DIR>          .\n",
            "01/08/2021  17:21    <DIR>          ..\n",
            "01/08/2021  21:09            87,466 emnist-keras.ipynb\n",
            "01/08/2021  21:10           874,384 full_model.h5\n",
            "01/08/2021  21:10           299,496 model.h5\n",
            "01/08/2021  21:10             3,274 model.json\n",
            "01/08/2021  18:43           277,270 model.onnx\n",
            "               5 File(s)      1,541,890 bytes\n",
            "               2 Dir(s)  80,026,927,104 bytes free\n"
          ]
        }
      ],
      "execution_count": 23,
      "metadata": {
        "trusted": true,
        "_uuid": "3e78e9886eb9570bae22ec07a37b0d04131ab77b",
        "collapsed": true,
        "execution": {
          "iopub.status.busy": "2021-01-08T20:10:58.612Z",
          "iopub.execute_input": "2021-01-08T20:10:58.621Z",
          "iopub.status.idle": "2021-01-08T20:10:58.685Z",
          "shell.execute_reply": "2021-01-08T20:10:58.673Z"
        }
      }
    },
    {
      "cell_type": "markdown",
      "source": [
        "### Keras to ONNX\n"
      ],
      "metadata": {
        "nteract": {
          "transient": {
            "deleting": false
          }
        }
      }
    },
    {
      "cell_type": "code",
      "source": [
        "import keras2onnx\n",
        "\n",
        "# convert to onnx model\n",
        "onnx_model = keras2onnx.convert_keras(model, model.name)\n",
        "\n",
        "# save onnx model\n",
        "model_file = 'model.onnx'\n",
        "keras2onnx.save_model(onnx_model, model_file)\n"
      ],
      "outputs": [
        {
          "output_type": "stream",
          "name": "stderr",
          "text": [
            "tf executing eager_mode: True\n",
            "tf.keras model eager_mode: False\n",
            "The ONNX operator number change on the optimization: 25 -> 15\n",
            "The maximum opset needed by this model is only 11.\n"
          ]
        }
      ],
      "execution_count": 24,
      "metadata": {
        "collapsed": true,
        "jupyter": {
          "source_hidden": false,
          "outputs_hidden": false
        },
        "nteract": {
          "transient": {
            "deleting": false
          }
        },
        "execution": {
          "iopub.status.busy": "2021-01-08T20:10:58.700Z",
          "iopub.execute_input": "2021-01-08T20:10:58.709Z",
          "iopub.status.idle": "2021-01-08T20:10:58.978Z",
          "shell.execute_reply": "2021-01-08T20:10:59.014Z"
        }
      }
    },
    {
      "cell_type": "markdown",
      "source": [
        "### Upload the ONNX file at Sclbl.net ..."
      ],
      "metadata": {
        "nteract": {
          "transient": {
            "deleting": false
          }
        }
      }
    },
    {
      "cell_type": "markdown",
      "source": [
        "### ... then test with Protobuf input"
      ],
      "metadata": {
        "nteract": {
          "transient": {
            "deleting": false
          }
        }
      }
    },
    {
      "cell_type": "code",
      "source": [
        "import requests\n",
        "import base64\n",
        "from onnx import numpy_helper\n",
        "\n",
        "# serialize and base64 encode protobuf input\n",
        "\n",
        "xc = X_test[127]\n",
        "xc = xc.astype('float32')\n",
        "tensor = numpy_helper.from_array(xc)\n",
        "serialized = tensor.SerializeToString()\n",
        "encoded = base64.b64encode(serialized)\n",
        "\n",
        "# then test the model on a sclbl.net cloud server\n",
        "\n",
        "url = \"https://taskmanager.sclbl.net:8080/task/41bdf0a9-51e7-11eb-962f-9600004e79cc\"\n",
        "payload = \"{\\\"input\\\":{\\\"content-type\\\":\\\"json\\\",\\\"location\\\":\\\"embedded\\\",\\\"data\\\":\\\"{\\\\\\\"input\\\\\\\": \\\\\\\"\" + encoded.decode('ascii') + \"\\\\\\\"}\\\"},\\\"output\\\":{\\\"content-type\\\":\\\"json\\\",\\\"location\\\":\\\"echo\\\"},\\\"control\\\":1,\\\"properties\\\":{\\\"language\\\":\\\"WASM\\\"}}\"\n",
        "\n",
        "response = requests.request(\"POST\", url, data = payload)\n",
        "\n",
        "print(response.text.encode('utf8'))\n",
        "print(\"Expected result: \" + str(np.argmax(y_test[127])))"
      ],
      "outputs": [
        {
          "output_type": "stream",
          "name": "stdout",
          "text": [
            "b'{\"statusCode\":1,\"result\":\"{\\\\\"output\\\\\": [0.0000,0.0000,0.0001,0.0000,0.0000,0.0000,0.0000,0.0000,0.0000,0.0000,0.0000,0.0000,0.0000,0.0000,0.0000,0.0000,0.0000,0.0001,0.0000,0.0119,0.0000,0.0000,0.0000,0.0002,0.0000,0.0000,0.0000,0.0000,0.0000,0.0000,0.0000,0.0000,0.0000,0.0000,0.0000,0.0000,0.0005,0.0000,0.9866,0.0000,0.0000,0.0000,0.0000,0.0000,0.0000,0.0000,0.0000]}\",\"tid\":\"sclblt-41bdf0a9-51e7-11eb-962f-9600004e79cc-87\",\"message\":\"ComputeNode assigned successfully. Result returned and available at https://taskmanager.sclbl.net:8080/retrieve/sclblt-41bdf0a9-51e7-11eb-962f-9600004e79cc-87\",\"timeOut\":false,\"resultUrl\":\"https://taskmanager.sclbl.net:8080/retrieve/sclblt-41bdf0a9-51e7-11eb-962f-9600004e79cc-87\"}\\n'\n",
            "Expected result: 38\n"
          ]
        }
      ],
      "execution_count": 25,
      "metadata": {
        "collapsed": true,
        "jupyter": {
          "source_hidden": false,
          "outputs_hidden": false
        },
        "nteract": {
          "transient": {
            "deleting": false
          }
        },
        "execution": {
          "iopub.status.busy": "2021-01-08T20:10:58.993Z",
          "iopub.execute_input": "2021-01-08T20:10:59.000Z",
          "iopub.status.idle": "2021-01-08T20:10:59.500Z",
          "shell.execute_reply": "2021-01-08T20:10:59.547Z"
        }
      }
    },
    {
      "cell_type": "markdown",
      "source": [
        "### ... or with raw input"
      ],
      "metadata": {
        "nteract": {
          "transient": {
            "deleting": false
          }
        }
      }
    },
    {
      "cell_type": "code",
      "source": [
        "# serialize and base64 encode raw input\n",
        "\n",
        "xc = X_test[127]\n",
        "xc = xc.astype('float32')\n",
        "raw = xc.tobytes();\n",
        "encoded = base64.b64encode(raw)\n",
        "\n",
        "# then test the model on a sclbl.net cloud server\n",
        "\n",
        "url = \"https://taskmanager.sclbl.net:8080/task/41bdf0a9-51e7-11eb-962f-9600004e79cc\"\n",
        "payload = \"{\\\"input\\\":{\\\"content-type\\\":\\\"json\\\",\\\"location\\\":\\\"embedded\\\",\\\"data\\\":\\\"{\\\\\\\"type\\\\\\\":\\\\\\\"raw\\\\\\\",\\\\\\\"input\\\\\\\": \\\\\\\"\" + encoded.decode('ascii') + \"\\\\\\\"}\\\"},\\\"output\\\":{\\\"content-type\\\":\\\"json\\\",\\\"location\\\":\\\"echo\\\"},\\\"control\\\":1,\\\"properties\\\":{\\\"language\\\":\\\"WASM\\\"}}\"\n",
        "\n",
        "response = requests.request(\"POST\", url, data = payload)\n",
        "\n",
        "print(response.text.encode('utf8'))\n",
        "print(\"Expected result: \" + str(np.argmax(y_test[127])))"
      ],
      "outputs": [
        {
          "output_type": "stream",
          "name": "stdout",
          "text": [
            "b'{\"statusCode\":1,\"result\":\"{\\\\\"output\\\\\": [0.0000,0.0000,0.0001,0.0000,0.0000,0.0000,0.0000,0.0000,0.0000,0.0000,0.0000,0.0000,0.0000,0.0000,0.0000,0.0000,0.0000,0.0001,0.0000,0.0119,0.0000,0.0000,0.0000,0.0002,0.0000,0.0000,0.0000,0.0000,0.0000,0.0000,0.0000,0.0000,0.0000,0.0000,0.0000,0.0000,0.0005,0.0000,0.9866,0.0000,0.0000,0.0000,0.0000,0.0000,0.0000,0.0000,0.0000]}\",\"tid\":\"sclblt-41bdf0a9-51e7-11eb-962f-9600004e79cc-88\",\"message\":\"ComputeNode assigned successfully. Result returned and available at https://taskmanager.sclbl.net:8080/retrieve/sclblt-41bdf0a9-51e7-11eb-962f-9600004e79cc-88\",\"timeOut\":false,\"resultUrl\":\"https://taskmanager.sclbl.net:8080/retrieve/sclblt-41bdf0a9-51e7-11eb-962f-9600004e79cc-88\"}\\n'\n",
            "Expected result: 38\n"
          ]
        }
      ],
      "execution_count": 26,
      "metadata": {
        "collapsed": true,
        "jupyter": {
          "source_hidden": false,
          "outputs_hidden": false
        },
        "nteract": {
          "transient": {
            "deleting": false
          }
        },
        "execution": {
          "iopub.status.busy": "2021-01-08T20:10:59.512Z",
          "iopub.execute_input": "2021-01-08T20:10:59.519Z",
          "iopub.status.idle": "2021-01-08T20:10:59.884Z",
          "shell.execute_reply": "2021-01-08T20:10:59.906Z"
        }
      }
    }
  ],
  "metadata": {
    "kernelspec": {
      "display_name": "Python 3",
      "language": "python",
      "name": "python3"
    },
    "language_info": {
      "name": "python",
      "version": "3.7.8",
      "mimetype": "text/x-python",
      "codemirror_mode": {
        "name": "ipython",
        "version": 3
      },
      "pygments_lexer": "ipython3",
      "nbconvert_exporter": "python",
      "file_extension": ".py"
    },
    "nteract": {
      "version": "0.27.0"
    }
  },
  "nbformat": 4,
  "nbformat_minor": 1
}