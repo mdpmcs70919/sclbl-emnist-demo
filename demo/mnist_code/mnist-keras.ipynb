{
  "cells": [
    {
      "cell_type": "markdown",
      "source": [
        "### load library"
      ],
      "metadata": {
        "_uuid": "31de920b8841625394bdabffdf80b436efc56b0d"
      }
    },
    {
      "cell_type": "code",
      "source": [
        "import numpy as np # linear algebra\n",
        "import pandas as pd # data processing, CSV file I/O (e.g. pd.read_csv)"
      ],
      "outputs": [],
      "execution_count": 1,
      "metadata": {
        "_uuid": "8f2839f25d086af736a60e9eeb907d3b93b6e0e5",
        "_cell_guid": "b1076dfc-b9ad-4769-8c92-a6c4dae69d19",
        "trusted": true,
        "collapsed": true,
        "execution": {
          "iopub.status.busy": "2021-01-10T12:24:48.708Z",
          "iopub.execute_input": "2021-01-10T12:24:48.727Z",
          "iopub.status.idle": "2021-01-10T12:24:49.048Z",
          "shell.execute_reply": "2021-01-10T12:24:49.028Z"
        }
      }
    },
    {
      "cell_type": "code",
      "source": [
        "from tensorflow import keras\n",
        "# from tensorflow.keras.utils import to_categorical\n",
        "# from tensorflow.keras.models import Sequential\n",
        "# from tensorflow.keras.layers import Conv2D, MaxPooling2D, Flatten, Dense, Dropout\n",
        "# from tensorflow.keras.losses import categorical_crossentropy\n",
        "# from tensorflow.keras.optimizers import Adam\n",
        "# from tensorflow.keras.preprocessing.image import ImageDataGenerator\n",
        "\n",
        "import matplotlib.pyplot as plt"
      ],
      "outputs": [],
      "execution_count": 2,
      "metadata": {
        "_cell_guid": "79c7e3d0-c299-4dcb-8224-4455121ee9b0",
        "_uuid": "d629ff2d2480ee46fbb7e2d37f6b5fab8052498a",
        "trusted": true,
        "collapsed": true,
        "execution": {
          "iopub.status.busy": "2021-01-10T12:24:49.073Z",
          "iopub.execute_input": "2021-01-10T12:24:49.088Z",
          "shell.execute_reply": "2021-01-10T12:25:00.929Z",
          "iopub.status.idle": "2021-01-10T12:25:00.812Z"
        }
      }
    },
    {
      "cell_type": "markdown",
      "source": [
        "### Load dataset "
      ],
      "metadata": {
        "_uuid": "9b016437d3f8a6460a8763129d010e449f1aa607"
      }
    },
    {
      "cell_type": "code",
      "source": [
        "train_data_path = '../mnist_input/mnist-digits-train.csv'\n",
        "test_data_path = '../mnist_input/mnist-digits-test.csv'"
      ],
      "outputs": [],
      "execution_count": 3,
      "metadata": {
        "trusted": true,
        "collapsed": true,
        "_uuid": "1f4399ac5ab8fb5b48b4d4d944f51bca6814816c",
        "execution": {
          "iopub.status.busy": "2021-01-10T12:25:00.835Z",
          "iopub.execute_input": "2021-01-10T12:25:00.850Z",
          "iopub.status.idle": "2021-01-10T12:25:00.871Z",
          "shell.execute_reply": "2021-01-10T12:25:00.938Z"
        }
      }
    },
    {
      "cell_type": "code",
      "source": [
        "train_data = pd.read_csv(train_data_path, header=None)"
      ],
      "outputs": [],
      "execution_count": 4,
      "metadata": {
        "trusted": true,
        "_uuid": "a3bba436039a3c87639fee9fb0f7963933450871",
        "collapsed": true,
        "execution": {
          "iopub.status.busy": "2021-01-10T12:25:00.897Z",
          "iopub.execute_input": "2021-01-10T12:25:00.910Z",
          "shell.execute_reply": "2021-01-10T12:25:13.851Z",
          "iopub.status.idle": "2021-01-10T12:25:13.224Z"
        }
      }
    },
    {
      "cell_type": "code",
      "source": [
        "train_data.head(10)"
      ],
      "outputs": [
        {
          "output_type": "execute_result",
          "execution_count": 5,
          "data": {
            "text/plain": "   0    1    2    3    4    5    6    7    8    9    ...  775  776  777  778  \\\n0    8    0    0    0    0    0    0    0    0    0  ...    0    0    0    0   \n1    9    0    0    0    0    0    0    0    0    0  ...    0    0    0    0   \n2    6    0    0    0    0    0    0    0    0    0  ...    0    0    0    0   \n3    3    0    0    0    0    0    0    0    0    0  ...    0    0    0    0   \n4    6    0    0    0    0    0    0    0    0    0  ...    0    0    0    0   \n5    6    0    0    0    0    0    0    0    0    0  ...    0    0    0    0   \n6    7    0    0    0    0    0    0    0    0    0  ...    0    0    0    0   \n7    1    0    0    0    0    0    0    0    0    0  ...    0    0    0    0   \n8    9    0    0    0    0    0    0    0    0    0  ...    0    0    0    0   \n9    0    0    0    0    0    0    0    0    0    0  ...    0    0    0    0   \n\n   779  780  781  782  783  784  \n0    0    0    0    0    0    0  \n1    0    0    0    0    0    0  \n2    0    0    0    0    0    0  \n3    0    0    0    0    0    0  \n4    0    0    0    0    0    0  \n5    0    0    0    0    0    0  \n6    0    0    0    0    0    0  \n7    0    0    0    0    0    0  \n8    0    0    0    0    0    0  \n9    0    0    0    0    0    0  \n\n[10 rows x 785 columns]",
            "text/html": "<div>\n<style scoped>\n    .dataframe tbody tr th:only-of-type {\n        vertical-align: middle;\n    }\n\n    .dataframe tbody tr th {\n        vertical-align: top;\n    }\n\n    .dataframe thead th {\n        text-align: right;\n    }\n</style>\n<table border=\"1\" class=\"dataframe\">\n  <thead>\n    <tr style=\"text-align: right;\">\n      <th></th>\n      <th>0</th>\n      <th>1</th>\n      <th>2</th>\n      <th>3</th>\n      <th>4</th>\n      <th>5</th>\n      <th>6</th>\n      <th>7</th>\n      <th>8</th>\n      <th>9</th>\n      <th>...</th>\n      <th>775</th>\n      <th>776</th>\n      <th>777</th>\n      <th>778</th>\n      <th>779</th>\n      <th>780</th>\n      <th>781</th>\n      <th>782</th>\n      <th>783</th>\n      <th>784</th>\n    </tr>\n  </thead>\n  <tbody>\n    <tr>\n      <th>0</th>\n      <td>8</td>\n      <td>0</td>\n      <td>0</td>\n      <td>0</td>\n      <td>0</td>\n      <td>0</td>\n      <td>0</td>\n      <td>0</td>\n      <td>0</td>\n      <td>0</td>\n      <td>...</td>\n      <td>0</td>\n      <td>0</td>\n      <td>0</td>\n      <td>0</td>\n      <td>0</td>\n      <td>0</td>\n      <td>0</td>\n      <td>0</td>\n      <td>0</td>\n      <td>0</td>\n    </tr>\n    <tr>\n      <th>1</th>\n      <td>9</td>\n      <td>0</td>\n      <td>0</td>\n      <td>0</td>\n      <td>0</td>\n      <td>0</td>\n      <td>0</td>\n      <td>0</td>\n      <td>0</td>\n      <td>0</td>\n      <td>...</td>\n      <td>0</td>\n      <td>0</td>\n      <td>0</td>\n      <td>0</td>\n      <td>0</td>\n      <td>0</td>\n      <td>0</td>\n      <td>0</td>\n      <td>0</td>\n      <td>0</td>\n    </tr>\n    <tr>\n      <th>2</th>\n      <td>6</td>\n      <td>0</td>\n      <td>0</td>\n      <td>0</td>\n      <td>0</td>\n      <td>0</td>\n      <td>0</td>\n      <td>0</td>\n      <td>0</td>\n      <td>0</td>\n      <td>...</td>\n      <td>0</td>\n      <td>0</td>\n      <td>0</td>\n      <td>0</td>\n      <td>0</td>\n      <td>0</td>\n      <td>0</td>\n      <td>0</td>\n      <td>0</td>\n      <td>0</td>\n    </tr>\n    <tr>\n      <th>3</th>\n      <td>3</td>\n      <td>0</td>\n      <td>0</td>\n      <td>0</td>\n      <td>0</td>\n      <td>0</td>\n      <td>0</td>\n      <td>0</td>\n      <td>0</td>\n      <td>0</td>\n      <td>...</td>\n      <td>0</td>\n      <td>0</td>\n      <td>0</td>\n      <td>0</td>\n      <td>0</td>\n      <td>0</td>\n      <td>0</td>\n      <td>0</td>\n      <td>0</td>\n      <td>0</td>\n    </tr>\n    <tr>\n      <th>4</th>\n      <td>6</td>\n      <td>0</td>\n      <td>0</td>\n      <td>0</td>\n      <td>0</td>\n      <td>0</td>\n      <td>0</td>\n      <td>0</td>\n      <td>0</td>\n      <td>0</td>\n      <td>...</td>\n      <td>0</td>\n      <td>0</td>\n      <td>0</td>\n      <td>0</td>\n      <td>0</td>\n      <td>0</td>\n      <td>0</td>\n      <td>0</td>\n      <td>0</td>\n      <td>0</td>\n    </tr>\n    <tr>\n      <th>5</th>\n      <td>6</td>\n      <td>0</td>\n      <td>0</td>\n      <td>0</td>\n      <td>0</td>\n      <td>0</td>\n      <td>0</td>\n      <td>0</td>\n      <td>0</td>\n      <td>0</td>\n      <td>...</td>\n      <td>0</td>\n      <td>0</td>\n      <td>0</td>\n      <td>0</td>\n      <td>0</td>\n      <td>0</td>\n      <td>0</td>\n      <td>0</td>\n      <td>0</td>\n      <td>0</td>\n    </tr>\n    <tr>\n      <th>6</th>\n      <td>7</td>\n      <td>0</td>\n      <td>0</td>\n      <td>0</td>\n      <td>0</td>\n      <td>0</td>\n      <td>0</td>\n      <td>0</td>\n      <td>0</td>\n      <td>0</td>\n      <td>...</td>\n      <td>0</td>\n      <td>0</td>\n      <td>0</td>\n      <td>0</td>\n      <td>0</td>\n      <td>0</td>\n      <td>0</td>\n      <td>0</td>\n      <td>0</td>\n      <td>0</td>\n    </tr>\n    <tr>\n      <th>7</th>\n      <td>1</td>\n      <td>0</td>\n      <td>0</td>\n      <td>0</td>\n      <td>0</td>\n      <td>0</td>\n      <td>0</td>\n      <td>0</td>\n      <td>0</td>\n      <td>0</td>\n      <td>...</td>\n      <td>0</td>\n      <td>0</td>\n      <td>0</td>\n      <td>0</td>\n      <td>0</td>\n      <td>0</td>\n      <td>0</td>\n      <td>0</td>\n      <td>0</td>\n      <td>0</td>\n    </tr>\n    <tr>\n      <th>8</th>\n      <td>9</td>\n      <td>0</td>\n      <td>0</td>\n      <td>0</td>\n      <td>0</td>\n      <td>0</td>\n      <td>0</td>\n      <td>0</td>\n      <td>0</td>\n      <td>0</td>\n      <td>...</td>\n      <td>0</td>\n      <td>0</td>\n      <td>0</td>\n      <td>0</td>\n      <td>0</td>\n      <td>0</td>\n      <td>0</td>\n      <td>0</td>\n      <td>0</td>\n      <td>0</td>\n    </tr>\n    <tr>\n      <th>9</th>\n      <td>0</td>\n      <td>0</td>\n      <td>0</td>\n      <td>0</td>\n      <td>0</td>\n      <td>0</td>\n      <td>0</td>\n      <td>0</td>\n      <td>0</td>\n      <td>0</td>\n      <td>...</td>\n      <td>0</td>\n      <td>0</td>\n      <td>0</td>\n      <td>0</td>\n      <td>0</td>\n      <td>0</td>\n      <td>0</td>\n      <td>0</td>\n      <td>0</td>\n      <td>0</td>\n    </tr>\n  </tbody>\n</table>\n<p>10 rows × 785 columns</p>\n</div>"
          },
          "metadata": {}
        }
      ],
      "execution_count": 5,
      "metadata": {
        "trusted": true,
        "_uuid": "98ea8bd7477906d87fff464cf207cbb0d1a86c22",
        "collapsed": true,
        "execution": {
          "iopub.status.busy": "2021-01-10T12:25:13.249Z",
          "iopub.execute_input": "2021-01-10T12:25:13.264Z",
          "iopub.status.idle": "2021-01-10T12:25:13.364Z",
          "shell.execute_reply": "2021-01-10T12:25:13.858Z"
        }
      }
    },
    {
      "cell_type": "code",
      "source": [
        "# The classes of this balanced dataset are as follows. Index into it based on class label\n",
        "class_mapping = '0123456789'"
      ],
      "outputs": [],
      "execution_count": 6,
      "metadata": {
        "trusted": true,
        "collapsed": true,
        "_uuid": "f2fb5113d990cab102b2e9f657baa3a8da129400",
        "execution": {
          "iopub.status.busy": "2021-01-10T12:25:13.395Z",
          "iopub.execute_input": "2021-01-10T12:25:13.409Z",
          "iopub.status.idle": "2021-01-10T12:25:13.429Z",
          "shell.execute_reply": "2021-01-10T12:25:13.869Z"
        }
      }
    },
    {
      "cell_type": "code",
      "source": [
        "class_mapping[5]"
      ],
      "outputs": [
        {
          "output_type": "execute_result",
          "execution_count": 7,
          "data": {
            "text/plain": "'5'"
          },
          "metadata": {}
        }
      ],
      "execution_count": 7,
      "metadata": {
        "trusted": true,
        "_uuid": "580fafe36c21d0f3d3911b2065f9f09d786db370",
        "collapsed": true,
        "execution": {
          "iopub.status.busy": "2021-01-10T12:25:13.446Z",
          "iopub.execute_input": "2021-01-10T12:25:13.459Z",
          "iopub.status.idle": "2021-01-10T12:25:13.484Z",
          "shell.execute_reply": "2021-01-10T12:25:13.876Z"
        }
      }
    },
    {
      "cell_type": "code",
      "source": [
        "train_data.shape"
      ],
      "outputs": [
        {
          "output_type": "execute_result",
          "execution_count": 8,
          "data": {
            "text/plain": "(240000, 785)"
          },
          "metadata": {}
        }
      ],
      "execution_count": 8,
      "metadata": {
        "trusted": true,
        "_uuid": "bd26cc4af46e4a09316da300f8513f1a9f6fa260",
        "collapsed": true,
        "execution": {
          "iopub.status.busy": "2021-01-10T12:25:13.504Z",
          "iopub.execute_input": "2021-01-10T12:25:13.516Z",
          "iopub.status.idle": "2021-01-10T12:25:13.539Z",
          "shell.execute_reply": "2021-01-10T12:25:13.881Z"
        }
      }
    },
    {
      "cell_type": "markdown",
      "source": [
        "### Data is flipped"
      ],
      "metadata": {
        "_uuid": "0d9acbcee4de0ea29f70ac51394b941d41def7b1"
      }
    },
    {
      "cell_type": "code",
      "source": [
        "num_classes = len(train_data[0].unique())\n",
        "row_num = 8\n",
        "\n",
        "plt.imshow(train_data.values[row_num, 1:].reshape([28, 28]), cmap='Greys_r')\n",
        "plt.show()\n",
        "\n",
        "img_flip = np.transpose(train_data.values[row_num,1:].reshape(28, 28), axes=[1,0]) # img_size * img_size arrays\n",
        "plt.imshow(img_flip, cmap='Greys_r')\n",
        "\n",
        "plt.show()"
      ],
      "outputs": [
        {
          "output_type": "display_data",
          "data": {
            "text/plain": "<Figure size 432x288 with 1 Axes>",
            "image/png": "[encoded data removed]"
          },
          "metadata": {
            "needs_background": "light"
          }
        },
        {
          "output_type": "display_data",
          "data": {
            "text/plain": "<Figure size 432x288 with 1 Axes>",
            "image/png": "[encoded data removed]"
          },
          "metadata": {
            "needs_background": "light"
          }
        }
      ],
      "execution_count": 9,
      "metadata": {
        "trusted": true,
        "_uuid": "08867c5c0faab423312281eea41015ad10648b66",
        "collapsed": true,
        "execution": {
          "iopub.status.busy": "2021-01-10T12:25:13.555Z",
          "iopub.execute_input": "2021-01-10T12:25:13.566Z",
          "shell.execute_reply": "2021-01-10T12:25:13.886Z",
          "iopub.status.idle": "2021-01-10T12:25:13.604Z"
        }
      }
    },
    {
      "cell_type": "code",
      "source": [
        "def show_img(data, row_num):\n",
        "    img_flip = np.transpose(data.values[row_num,1:].reshape(28, 28), axes=[1,0]) # img_size * img_size arrays\n",
        "    plt.title('Class: ' + str(data.values[row_num,0]) + ', Label: ' + str(class_mapping[data.values[row_num,0]]))\n",
        "    plt.imshow(img_flip, cmap='Greys_r')"
      ],
      "outputs": [],
      "execution_count": 10,
      "metadata": {
        "trusted": true,
        "collapsed": true,
        "_uuid": "4a3d24bf1e6c5527f13a669704cafd4cc84ef4ca",
        "execution": {
          "iopub.status.busy": "2021-01-10T12:25:13.644Z",
          "iopub.execute_input": "2021-01-10T12:25:13.664Z",
          "iopub.status.idle": "2021-01-10T12:25:13.682Z",
          "shell.execute_reply": "2021-01-10T12:25:13.893Z"
        }
      }
    },
    {
      "cell_type": "code",
      "source": [
        "show_img(train_data, 149)"
      ],
      "outputs": [
        {
          "output_type": "display_data",
          "data": {
            "text/plain": "<Figure size 432x288 with 1 Axes>",
            "image/png": "[encoded data removed]"
          },
          "metadata": {
            "needs_background": "light"
          }
        }
      ],
      "execution_count": 11,
      "metadata": {
        "trusted": true,
        "_uuid": "7921f478d1d79dcc480f7987ce20340167b894c1",
        "collapsed": true,
        "execution": {
          "iopub.status.busy": "2021-01-10T12:25:13.697Z",
          "iopub.execute_input": "2021-01-10T12:25:13.708Z",
          "iopub.status.idle": "2021-01-10T12:25:13.734Z",
          "shell.execute_reply": "2021-01-10T12:25:13.898Z"
        }
      }
    },
    {
      "cell_type": "code",
      "source": [
        "# 10 digits\n",
        "num_classes = 10\n",
        "img_size = 28\n",
        "\n",
        "def img_label_load(data_path, num_classes=None):\n",
        "    data = pd.read_csv(data_path, header=None)\n",
        "    data_rows = len(data)\n",
        "    if not num_classes:\n",
        "        num_classes = len(data[0].unique())\n",
        "    \n",
        "    # this assumes square imgs. Should be 28x28\n",
        "    img_size = int(np.sqrt(len(data.iloc[0][1:])))\n",
        "    \n",
        "    # Images need to be transposed. This line also does the reshaping needed.\n",
        "    imgs = np.transpose(data.values[:,1:].reshape(data_rows, img_size, img_size, 1), axes=[0,2,1,3]) # img_size * img_size arrays\n",
        "    \n",
        "    labels = keras.utils.to_categorical(data.values[:,0], num_classes) # one-hot encoding vectors\n",
        "    \n",
        "    return imgs/255., labels\n",
        "\n"
      ],
      "outputs": [],
      "execution_count": 12,
      "metadata": {
        "trusted": true,
        "collapsed": true,
        "_uuid": "5385a804fd7eda7ca00cb874be10dcc85e9af19e",
        "execution": {
          "iopub.status.busy": "2021-01-10T12:25:13.752Z",
          "iopub.execute_input": "2021-01-10T12:25:13.766Z",
          "iopub.status.idle": "2021-01-10T12:25:13.786Z",
          "shell.execute_reply": "2021-01-10T12:25:13.902Z"
        }
      }
    },
    {
      "cell_type": "markdown",
      "source": [
        "### model, compile"
      ],
      "metadata": {
        "_uuid": "f7f3744ebae007d1150e96f6c9d23896bf0cc3ce"
      }
    },
    {
      "cell_type": "code",
      "source": [
        "model = keras.models.Sequential()\n",
        "\n",
        "# model.add(keras.layers.Reshape((img_size,img_size,1), input_shape=(784,)))\n",
        "model.add(keras.layers.Conv2D(filters=12, kernel_size=(5,5), strides=2, activation='relu', \n",
        "                              input_shape=(img_size,img_size,1)))\n",
        "# model.add(keras.layers.MaxPooling2D(pool_size=(2,2)))\n",
        "model.add(keras.layers.Dropout(.5))\n",
        "\n",
        "model.add(keras.layers.Conv2D(filters=18, kernel_size=(3,3) , strides=2, activation='relu'))\n",
        "# model.add(keras.layers.MaxPooling2D(pool_size=(2,2)))\n",
        "model.add(keras.layers.Dropout(.5))\n",
        "\n",
        "model.add(keras.layers.Conv2D(filters=24, kernel_size=(2,2), activation='relu'))\n",
        "# model.add(keras.layers.MaxPooling2D(pool_size=(2,2)))\n",
        "\n",
        "# model.add(keras.layers.Conv2D(filters=30, kernel_size=(3,3), activation='relu'))\n",
        "\n",
        "model.add(keras.layers.Flatten())\n",
        "model.add(keras.layers.Dense(units=150, activation='relu'))\n",
        "model.add(keras.layers.Dense(units=num_classes, activation='softmax'))\n",
        "\n",
        "model.compile(loss='categorical_crossentropy', optimizer='Adam', metrics=['accuracy'])\n",
        "model.summary()"
      ],
      "outputs": [
        {
          "output_type": "stream",
          "name": "stdout",
          "text": [
            "Model: \"sequential\"\n",
            "_________________________________________________________________\n",
            "Layer (type)                 Output Shape              Param #   \n",
            "=================================================================\n",
            "conv2d (Conv2D)              (None, 12, 12, 12)        312       \n",
            "_________________________________________________________________\n",
            "dropout (Dropout)            (None, 12, 12, 12)        0         \n",
            "_________________________________________________________________\n",
            "conv2d_1 (Conv2D)            (None, 5, 5, 18)          1962      \n",
            "_________________________________________________________________\n",
            "dropout_1 (Dropout)          (None, 5, 5, 18)          0         \n",
            "_________________________________________________________________\n",
            "conv2d_2 (Conv2D)            (None, 4, 4, 24)          1752      \n",
            "_________________________________________________________________\n",
            "flatten (Flatten)            (None, 384)               0         \n",
            "_________________________________________________________________\n",
            "dense (Dense)                (None, 150)               57750     \n",
            "_________________________________________________________________\n",
            "dense_1 (Dense)              (None, 10)                1510      \n",
            "=================================================================\n",
            "Total params: 63,286\n",
            "Trainable params: 63,286\n",
            "Non-trainable params: 0\n",
            "_________________________________________________________________\n"
          ]
        }
      ],
      "execution_count": 13,
      "metadata": {
        "trusted": true,
        "_uuid": "197e457ae115c85fe96db9621fd296978a62502c",
        "collapsed": true,
        "execution": {
          "iopub.status.busy": "2021-01-10T12:25:13.805Z",
          "iopub.execute_input": "2021-01-10T12:25:13.814Z",
          "iopub.status.idle": "2021-01-10T12:25:15.009Z",
          "shell.execute_reply": "2021-01-10T12:25:15.107Z"
        }
      }
    },
    {
      "cell_type": "code",
      "source": [
        "for layer in model.layers:\n",
        "    print(layer.get_output_at(0).get_shape().as_list())\n"
      ],
      "outputs": [
        {
          "output_type": "stream",
          "name": "stdout",
          "text": [
            "[None, 12, 12, 12]\n",
            "[None, 12, 12, 12]\n",
            "[None, 5, 5, 18]\n",
            "[None, 5, 5, 18]\n",
            "[None, 4, 4, 24]\n",
            "[None, 384]\n",
            "[None, 150]\n",
            "[None, 10]\n"
          ]
        }
      ],
      "execution_count": 14,
      "metadata": {
        "trusted": true,
        "_uuid": "35693aac7a868fce047dffa15a5c2c62a5943496",
        "collapsed": true,
        "execution": {
          "iopub.status.busy": "2021-01-10T12:25:15.030Z",
          "iopub.execute_input": "2021-01-10T12:25:15.040Z",
          "iopub.status.idle": "2021-01-10T12:25:15.062Z",
          "shell.execute_reply": "2021-01-10T12:25:15.116Z"
        }
      }
    },
    {
      "cell_type": "markdown",
      "source": [
        "### Train"
      ],
      "metadata": {
        "_uuid": "5fbd7a6b3c2f3ed6fc9d4e96ddecc7106d31b410"
      }
    },
    {
      "cell_type": "code",
      "source": [
        "X, y = img_label_load(train_data_path)\n",
        "print(X.shape)"
      ],
      "outputs": [
        {
          "output_type": "stream",
          "name": "stdout",
          "text": [
            "(240000, 28, 28, 1)\n"
          ]
        }
      ],
      "execution_count": 15,
      "metadata": {
        "trusted": true,
        "_uuid": "f77ca5ebdb6a2080248702f109bef0ca04ca4e9e",
        "collapsed": true,
        "execution": {
          "iopub.status.busy": "2021-01-10T12:25:15.077Z",
          "iopub.execute_input": "2021-01-10T12:25:15.084Z",
          "iopub.status.idle": "2021-01-10T12:25:28.875Z",
          "shell.execute_reply": "2021-01-10T12:25:28.925Z"
        }
      }
    },
    {
      "cell_type": "code",
      "source": [
        "data_generator = keras.preprocessing.image.ImageDataGenerator(validation_split=.2)\n",
        "## consider using this for more variety\n",
        "data_generator_with_aug = keras.preprocessing.image.ImageDataGenerator(validation_split=.2,\n",
        "                                            width_shift_range=.2, height_shift_range=.2,\n",
        "                                            rotation_range=60, zoom_range=.2, shear_range=.3)\n",
        "\n",
        "# if already ran this above, no need to do it again\n",
        "# X, y = img_label_load(train_data_path)\n",
        "# print(\"X.shape: \", X.shape)\n",
        "\n",
        "training_data_generator = data_generator.flow(X, y, subset='training')\n",
        "validation_data_generator = data_generator.flow(X, y, subset='validation')\n",
        "history = model.fit_generator(training_data_generator, \n",
        "                              steps_per_epoch=500, epochs=10, # can change epochs to 5\n",
        "                              validation_data=validation_data_generator)\n"
      ],
      "outputs": [
        {
          "output_type": "stream",
          "name": "stdout",
          "text": [
            "WARNING:tensorflow:From <ipython-input-16-690a4fed7a6b>:15: Model.fit_generator (from tensorflow.python.keras.engine.training) is deprecated and will be removed in a future version.\n",
            "Instructions for updating:\n",
            "Please use Model.fit, which supports generators.\n",
            "Epoch 1/10\n",
            "500/500 [==============================] - 7s 13ms/step - loss: 0.7529 - accuracy: 0.7559 - val_loss: 0.2267 - val_accuracy: 0.9339\b\b\b\b\b\b\b\b\b\b\b\b\b\b\b\b\b\b\b\b\b\b\b\b\b\b\b\b\b\b\b\b\b\b\b\b\b\n",
            "Epoch 2/10\n",
            "500/500 [==============================] - 6s 13ms/step - loss: 0.3075 - accuracy: 0.9031 - val_loss: 0.1494 - val_accuracy: 0.9553\b\b\b\b\b\b\b\b\b\b\b\b\b\b\b\b\b\b\b\b\b\b\b\b\b\b\b\b\b\b\b\b\b\b\b\b\b\n",
            "Epoch 3/10\n",
            "500/500 [==============================] - 6s 13ms/step - loss: 0.2168 - accuracy: 0.9329 - val_loss: 0.1212 - val_accuracy: 0.9640\b\b\b\b\b\b\b\b\b\b\b\b\b\b\b\b\b\b\b\b\b\b\b\b\b\b\b\b\b\b\b\b\b\b\b\b\b\n",
            "Epoch 4/10\n",
            "500/500 [==============================] - 6s 13ms/step - loss: 0.1763 - accuracy: 0.9456 - val_loss: 0.0984 - val_accuracy: 0.9695\b\b\b\b\b\b\b\b\b\b\b\b\b\b\b\b\b\b\b\b\b\b\b\b\b\b\b\b\b\b\b\b\b\b\b\b\b\n",
            "Epoch 5/10\n",
            "500/500 [==============================] - 5s 9ms/step - loss: 0.1605 - accuracy: 0.9503 - val_loss: 0.0873 - val_accuracy: 0.9730\b\b\b\b\b\b\b\b\b\b\b\b\b\b\b\b\b\b\b\b\b\b\b\b\b\b\b\b\b\b\b\b\b\b\b\b\b\b\n",
            "Epoch 6/10\n",
            "500/500 [==============================] - 5s 9ms/step - loss: 0.1485 - accuracy: 0.9554 - val_loss: 0.0908 - val_accuracy: 0.9711\b\b\b\b\b\b\b\b\b\b\b\b\b\b\b\b\b\b\b\b\b\b\b\b\b\b\b\b\b\b\b\b\b\b\b\b\b\b\n",
            "Epoch 7/10\n",
            "500/500 [==============================] - 4s 9ms/step - loss: 0.1364 - accuracy: 0.9572 - val_loss: 0.0743 - val_accuracy: 0.9768\b\b\b\b\b\b\b\b\b\b\b\b\b\b\b\b\b\b\b\b\b\b\b\b\b\b\b\b\b\b\b\b\b\b\b\b\b\b\n",
            "Epoch 8/10\n",
            "500/500 [==============================] - 5s 9ms/step - loss: 0.1286 - accuracy: 0.9599 - val_loss: 0.0681 - val_accuracy: 0.9792\b\b\b\b\b\b\b\b\b\b\b\b\b\b\b\b\b\b\b\b\b\b\b\b\b\b\b\b\b\b\b\b\b\b\b\b\b\b\n",
            "Epoch 9/10\n",
            "500/500 [==============================] - 4s 9ms/step - loss: 0.1069 - accuracy: 0.9660 - val_loss: 0.0656 - val_accuracy: 0.9798\b\b\b\b\b\b\b\b\b\b\b\b\b\b\b\b\b\b\b\b\b\b\b\b\b\b\b\b\b\b\b\b\b\b\b\b\b\b\n",
            "Epoch 10/10\n",
            "500/500 [==============================] - 4s 9ms/step - loss: 0.1052 - accuracy: 0.9671 - val_loss: 0.0605 - val_accuracy: 0.9809\b\b\b\b\b\b\b\b\b\b\b\b\b\b\b\b\b\b\b\b\b\b\b\b\b\b\b\b\b\b\b\b\b\b\b\b\b\b\n"
          ]
        }
      ],
      "execution_count": 16,
      "metadata": {
        "trusted": true,
        "_uuid": "a10897314dbbcef2233cab83b2cdb981533ccf3d",
        "scrolled": false,
        "collapsed": true,
        "execution": {
          "iopub.status.busy": "2021-01-10T12:25:28.893Z",
          "iopub.execute_input": "2021-01-10T12:25:28.909Z",
          "shell.execute_reply": "2021-01-10T12:26:23.444Z",
          "iopub.status.idle": "2021-01-10T12:26:23.457Z"
        }
      }
    },
    {
      "cell_type": "code",
      "source": [
        "test_X, test_y = img_label_load(test_data_path)\n",
        "test_data_generator = data_generator.flow(X, y)\n",
        "\n",
        "model.evaluate_generator(test_data_generator)"
      ],
      "outputs": [
        {
          "output_type": "stream",
          "name": "stdout",
          "text": [
            "WARNING:tensorflow:From <ipython-input-17-e462b9b9a17f>:4: Model.evaluate_generator (from tensorflow.python.keras.engine.training) is deprecated and will be removed in a future version.\n",
            "Instructions for updating:\n",
            "Please use Model.evaluate, which supports generators.\n"
          ]
        },
        {
          "output_type": "execute_result",
          "execution_count": 17,
          "data": {
            "text/plain": "[0.057862311601638794, 0.9819083213806152]"
          },
          "metadata": {}
        }
      ],
      "execution_count": 17,
      "metadata": {
        "trusted": true,
        "_uuid": "14fb22d26d96914ca1c8111dd8f056915db9cf19",
        "collapsed": true,
        "execution": {
          "iopub.status.busy": "2021-01-10T12:26:23.472Z",
          "iopub.execute_input": "2021-01-10T12:26:23.481Z",
          "iopub.status.idle": "2021-01-10T12:26:35.994Z",
          "shell.execute_reply": "2021-01-10T12:26:36.036Z"
        }
      }
    },
    {
      "cell_type": "markdown",
      "source": [
        "### Look at some predictions\n"
      ],
      "metadata": {
        "_uuid": "3aa759dd7aa31e37dc48bc9a65b8c815ce273019"
      }
    },
    {
      "cell_type": "code",
      "source": [
        "test_data = pd.read_csv(test_data_path, header=None)\n",
        "show_img(test_data, 123)"
      ],
      "outputs": [
        {
          "output_type": "display_data",
          "data": {
            "text/plain": "<Figure size 432x288 with 1 Axes>",
            "image/png": "[encoded data removed]"
          },
          "metadata": {
            "needs_background": "light"
          }
        }
      ],
      "execution_count": 18,
      "metadata": {
        "trusted": true,
        "_uuid": "b2267b783e2b08ef23ec5d7bc68c6b0e14b1d2fd",
        "execution": {
          "iopub.status.busy": "2021-01-10T12:26:36.008Z",
          "iopub.execute_input": "2021-01-10T12:26:36.016Z",
          "iopub.status.idle": "2021-01-10T12:26:38.040Z",
          "shell.execute_reply": "2021-01-10T12:26:38.089Z"
        }
      }
    },
    {
      "cell_type": "code",
      "source": [
        "X_test, y_test = img_label_load(test_data_path) # loads images and orients for model"
      ],
      "outputs": [],
      "execution_count": 19,
      "metadata": {
        "trusted": true,
        "collapsed": true,
        "_uuid": "60f2c48a1923aa302d24e6a0ee019fc9aba950d1",
        "execution": {
          "iopub.status.busy": "2021-01-10T12:26:38.060Z",
          "iopub.execute_input": "2021-01-10T12:26:38.070Z",
          "shell.execute_reply": "2021-01-10T12:26:40.195Z",
          "iopub.status.idle": "2021-01-10T12:26:40.117Z"
        }
      }
    },
    {
      "cell_type": "code",
      "source": [
        "def run_prediction(idx):\n",
        "    result = np.argmax(model.predict(X_test[idx:idx+1]))\n",
        "    print('Prediction: ', result, ', Char: ', class_mapping[result])\n",
        "    print('Label: ', test_data.values[idx,0])\n",
        "    show_img(test_data, idx)"
      ],
      "outputs": [],
      "execution_count": 20,
      "metadata": {
        "trusted": true,
        "collapsed": true,
        "_uuid": "2a8b2f8b90f9ee6aa1cc169b58b637da49735ab7",
        "execution": {
          "iopub.status.busy": "2021-01-10T12:26:40.132Z",
          "iopub.execute_input": "2021-01-10T12:26:40.143Z",
          "iopub.status.idle": "2021-01-10T12:26:40.158Z",
          "shell.execute_reply": "2021-01-10T12:26:40.201Z"
        }
      }
    },
    {
      "cell_type": "code",
      "source": [
        "import random\n",
        "\n",
        "for _ in range(1,10):\n",
        "    idx = random.randint(0, 47-1)\n",
        "    run_prediction(idx)"
      ],
      "outputs": [
        {
          "output_type": "stream",
          "name": "stdout",
          "text": [
            "Prediction:  2 , Char:  2\n",
            "Label:  2\n",
            "Prediction:  6 , Char:  6\n",
            "Label:  6\n",
            "Prediction:  6 , Char:  6\n",
            "Label:  6\n",
            "Prediction:  5 , Char:  5\n",
            "Label:  5\n",
            "Prediction:  6 , Char:  6\n",
            "Label:  6\n",
            "Prediction:  6 , Char:  6\n",
            "Label:  6\n",
            "Prediction:  3 , Char:  3\n",
            "Label:  3\n",
            "Prediction:  5 , Char:  5\n",
            "Label:  5\n",
            "Prediction:  5 , Char:  5\n",
            "Label:  5\n"
          ]
        },
        {
          "output_type": "display_data",
          "data": {
            "text/plain": "<Figure size 432x288 with 1 Axes>",
            "image/png": "[encoded data removed]"
          },
          "metadata": {
            "needs_background": "light"
          }
        }
      ],
      "execution_count": 21,
      "metadata": {
        "trusted": true,
        "_uuid": "30c86d25f4147a803278fa9e5838449656f2095a",
        "execution": {
          "iopub.status.busy": "2021-01-10T12:26:40.172Z",
          "iopub.execute_input": "2021-01-10T12:26:40.180Z",
          "shell.execute_reply": "2021-01-10T12:26:40.629Z",
          "iopub.status.idle": "2021-01-10T12:26:40.641Z"
        }
      }
    },
    {
      "cell_type": "code",
      "source": [
        "show_img(test_data, 123)\n",
        "np.argmax(y_test[123])"
      ],
      "outputs": [
        {
          "output_type": "execute_result",
          "execution_count": 22,
          "data": {
            "text/plain": "5"
          },
          "metadata": {}
        },
        {
          "output_type": "display_data",
          "data": {
            "text/plain": "<Figure size 432x288 with 1 Axes>",
            "image/png": "[encoded data removed]"
          },
          "metadata": {
            "needs_background": "light"
          }
        }
      ],
      "execution_count": 22,
      "metadata": {
        "trusted": true,
        "_uuid": "be1a2897df65088691d96c59331ff34420e22d45",
        "execution": {
          "iopub.status.busy": "2021-01-10T12:26:40.657Z",
          "iopub.execute_input": "2021-01-10T12:26:40.666Z",
          "iopub.status.idle": "2021-01-10T12:26:40.739Z",
          "shell.execute_reply": "2021-01-10T12:26:40.776Z"
        }
      }
    },
    {
      "cell_type": "markdown",
      "source": [
        "### Keras exports"
      ],
      "metadata": {
        "trusted": true,
        "collapsed": true,
        "_uuid": "2695e4eda1240fb4c3b5eaa7b3b2f18ec3418324"
      }
    },
    {
      "cell_type": "code",
      "source": [
        "with open('model.json', 'w') as f:\n",
        "    f.write(model.to_json())\n",
        "model.save_weights('./model.h5')\n",
        "\n",
        "model.save('./full_model.h5')\n",
        "#!dir\n",
        "# ... or ...\n",
        "#!ls -al"
      ],
      "outputs": [],
      "execution_count": 23,
      "metadata": {
        "trusted": true,
        "_uuid": "3e78e9886eb9570bae22ec07a37b0d04131ab77b",
        "collapsed": true,
        "execution": {
          "iopub.status.busy": "2021-01-10T12:26:40.754Z",
          "iopub.execute_input": "2021-01-10T12:26:40.762Z",
          "iopub.status.idle": "2021-01-10T12:26:40.822Z",
          "shell.execute_reply": "2021-01-10T12:26:40.811Z"
        }
      }
    },
    {
      "cell_type": "markdown",
      "source": [
        "### Keras to ONNX\n"
      ],
      "metadata": {
        "nteract": {
          "transient": {
            "deleting": false
          }
        }
      }
    },
    {
      "cell_type": "code",
      "source": [
        "import keras2onnx\n",
        "\n",
        "# convert to onnx model\n",
        "onnx_model = keras2onnx.convert_keras(model, model.name)\n",
        "\n",
        "# save onnx model\n",
        "model_file = 'model.onnx'\n",
        "keras2onnx.save_model(onnx_model, model_file)\n"
      ],
      "outputs": [
        {
          "output_type": "stream",
          "name": "stderr",
          "text": [
            "tf executing eager_mode: True\n",
            "tf.keras model eager_mode: False\n",
            "The ONNX operator number change on the optimization: 25 -> 15\n",
            "The maximum opset needed by this model is only 11.\n"
          ]
        }
      ],
      "execution_count": 24,
      "metadata": {
        "collapsed": true,
        "jupyter": {
          "source_hidden": false,
          "outputs_hidden": false
        },
        "nteract": {
          "transient": {
            "deleting": false
          }
        },
        "execution": {
          "iopub.status.busy": "2021-01-10T12:26:40.836Z",
          "iopub.execute_input": "2021-01-10T12:26:40.843Z",
          "iopub.status.idle": "2021-01-10T12:26:41.260Z",
          "shell.execute_reply": "2021-01-10T12:26:41.239Z"
        }
      }
    },
    {
      "cell_type": "markdown",
      "source": [
        "### Upload the ONNX file at Sclbl.net ..."
      ],
      "metadata": {
        "nteract": {
          "transient": {
            "deleting": false
          }
        }
      }
    },
    {
      "cell_type": "markdown",
      "source": [
        "### ... then test with Protobuf input"
      ],
      "metadata": {
        "nteract": {
          "transient": {
            "deleting": false
          }
        }
      }
    },
    {
      "cell_type": "code",
      "source": [
        "import requests\n",
        "import base64\n",
        "from onnx import numpy_helper\n",
        "\n",
        "# serialize and base64 encode protobuf input\n",
        "\n",
        "xc = X_test[127]\n",
        "\n",
        "print(X_test[127])\n",
        "xc = xc.astype('float32')\n",
        "tensor = numpy_helper.from_array(xc)\n",
        "serialized = tensor.SerializeToString()\n",
        "encoded = base64.b64encode(serialized)\n",
        "\n",
        "# then test the model on a sclbl.net cloud server\n",
        "\n",
        "url = \"https://taskmanager.sclbl.net:8080/task/34e77475-51e7-11eb-962f-9600004e79cc\"\n",
        "payload = \"{\\\"input\\\":{\\\"content-type\\\":\\\"json\\\",\\\"location\\\":\\\"embedded\\\",\\\"data\\\":\\\"{\\\\\\\"input\\\\\\\": \\\\\\\"\" + encoded.decode('ascii') + \"\\\\\\\"}\\\"},\\\"output\\\":{\\\"content-type\\\":\\\"json\\\",\\\"location\\\":\\\"echo\\\"},\\\"control\\\":1,\\\"properties\\\":{\\\"language\\\":\\\"WASM\\\"}}\"\n",
        "\n",
        "response = requests.request(\"POST\", url, data = payload)\n",
        "\n",
        "print(response.text.encode('utf8'))\n",
        "print(\"Expected result: \" + str(np.argmax(y_test[127])))"
      ],
      "outputs": [
        {
          "output_type": "stream",
          "name": "stdout",
          "text": [
            "[[[0.        ]\n",
            "  [0.        ]\n",
            "  [0.        ]\n",
            "  [0.        ]\n",
            "  [0.        ]\n",
            "  [0.        ]\n",
            "  [0.        ]\n",
            "  [0.        ]\n",
            "  [0.        ]\n",
            "  [0.        ]\n",
            "  [0.        ]\n",
            "  [0.        ]\n",
            "  [0.        ]\n",
            "  [0.        ]\n",
            "  [0.        ]\n",
            "  [0.        ]\n",
            "  [0.        ]\n",
            "  [0.        ]\n",
            "  [0.        ]\n",
            "  [0.        ]\n",
            "  [0.        ]\n",
            "  [0.        ]\n",
            "  [0.        ]\n",
            "  [0.        ]\n",
            "  [0.        ]\n",
            "  [0.        ]\n",
            "  [0.        ]\n",
            "  [0.        ]]\n",
            "\n",
            " [[0.        ]\n",
            "  [0.        ]\n",
            "  [0.        ]\n",
            "  [0.        ]\n",
            "  [0.        ]\n",
            "  [0.        ]\n",
            "  [0.        ]\n",
            "  [0.        ]\n",
            "  [0.        ]\n",
            "  [0.        ]\n",
            "  [0.        ]\n",
            "  [0.        ]\n",
            "  [0.        ]\n",
            "  [0.        ]\n",
            "  [0.        ]\n",
            "  [0.        ]\n",
            "  [0.        ]\n",
            "  [0.        ]\n",
            "  [0.        ]\n",
            "  [0.        ]\n",
            "  [0.        ]\n",
            "  [0.        ]\n",
            "  [0.        ]\n",
            "  [0.        ]\n",
            "  [0.        ]\n",
            "  [0.        ]\n",
            "  [0.        ]\n",
            "  [0.        ]]\n",
            "\n",
            " [[0.        ]\n",
            "  [0.        ]\n",
            "  [0.        ]\n",
            "  [0.        ]\n",
            "  [0.        ]\n",
            "  [0.        ]\n",
            "  [0.        ]\n",
            "  [0.        ]\n",
            "  [0.        ]\n",
            "  [0.        ]\n",
            "  [0.        ]\n",
            "  [0.        ]\n",
            "  [0.        ]\n",
            "  [0.01568627]\n",
            "  [0.01568627]\n",
            "  [0.01960784]\n",
            "  [0.08235294]\n",
            "  [0.14509804]\n",
            "  [0.1254902 ]\n",
            "  [0.03529412]\n",
            "  [0.01568627]\n",
            "  [0.01568627]\n",
            "  [0.00784314]\n",
            "  [0.        ]\n",
            "  [0.        ]\n",
            "  [0.        ]\n",
            "  [0.        ]\n",
            "  [0.        ]]\n",
            "\n",
            " [[0.        ]\n",
            "  [0.        ]\n",
            "  [0.        ]\n",
            "  [0.        ]\n",
            "  [0.        ]\n",
            "  [0.        ]\n",
            "  [0.        ]\n",
            "  [0.        ]\n",
            "  [0.        ]\n",
            "  [0.        ]\n",
            "  [0.01568627]\n",
            "  [0.08235294]\n",
            "  [0.19607843]\n",
            "  [0.44705882]\n",
            "  [0.49019608]\n",
            "  [0.50588235]\n",
            "  [0.6745098 ]\n",
            "  [0.84313725]\n",
            "  [0.79607843]\n",
            "  [0.54901961]\n",
            "  [0.49803922]\n",
            "  [0.49019608]\n",
            "  [0.32156863]\n",
            "  [0.08627451]\n",
            "  [0.00784314]\n",
            "  [0.        ]\n",
            "  [0.        ]\n",
            "  [0.        ]]\n",
            "\n",
            " [[0.        ]\n",
            "  [0.        ]\n",
            "  [0.        ]\n",
            "  [0.        ]\n",
            "  [0.        ]\n",
            "  [0.        ]\n",
            "  [0.        ]\n",
            "  [0.        ]\n",
            "  [0.        ]\n",
            "  [0.07843137]\n",
            "  [0.43137255]\n",
            "  [0.6745098 ]\n",
            "  [0.8627451 ]\n",
            "  [0.96078431]\n",
            "  [0.97647059]\n",
            "  [0.98039216]\n",
            "  [0.98039216]\n",
            "  [0.98039216]\n",
            "  [0.97647059]\n",
            "  [0.97254902]\n",
            "  [0.98039216]\n",
            "  [0.97647059]\n",
            "  [0.90980392]\n",
            "  [0.66666667]\n",
            "  [0.25490196]\n",
            "  [0.00784314]\n",
            "  [0.        ]\n",
            "  [0.        ]]\n",
            "\n",
            " [[0.        ]\n",
            "  [0.        ]\n",
            "  [0.        ]\n",
            "  [0.        ]\n",
            "  [0.        ]\n",
            "  [0.        ]\n",
            "  [0.        ]\n",
            "  [0.        ]\n",
            "  [0.00784314]\n",
            "  [0.30980392]\n",
            "  [0.88235294]\n",
            "  [0.96862745]\n",
            "  [0.96078431]\n",
            "  [0.87058824]\n",
            "  [0.85098039]\n",
            "  [0.84313725]\n",
            "  [0.6745098 ]\n",
            "  [0.50588235]\n",
            "  [0.50588235]\n",
            "  [0.6745098 ]\n",
            "  [0.8627451 ]\n",
            "  [0.91764706]\n",
            "  [0.99215686]\n",
            "  [0.97254902]\n",
            "  [0.54117647]\n",
            "  [0.03529412]\n",
            "  [0.        ]\n",
            "  [0.        ]]\n",
            "\n",
            " [[0.        ]\n",
            "  [0.        ]\n",
            "  [0.        ]\n",
            "  [0.        ]\n",
            "  [0.        ]\n",
            "  [0.        ]\n",
            "  [0.        ]\n",
            "  [0.        ]\n",
            "  [0.01176471]\n",
            "  [0.37254902]\n",
            "  [0.81568627]\n",
            "  [0.85098039]\n",
            "  [0.79607843]\n",
            "  [0.54901961]\n",
            "  [0.50588235]\n",
            "  [0.49019608]\n",
            "  [0.32156863]\n",
            "  [0.15294118]\n",
            "  [0.15294118]\n",
            "  [0.32156863]\n",
            "  [0.54509804]\n",
            "  [0.69411765]\n",
            "  [0.96862745]\n",
            "  [0.98823529]\n",
            "  [0.6745098 ]\n",
            "  [0.08235294]\n",
            "  [0.        ]\n",
            "  [0.        ]]\n",
            "\n",
            " [[0.        ]\n",
            "  [0.        ]\n",
            "  [0.        ]\n",
            "  [0.        ]\n",
            "  [0.        ]\n",
            "  [0.        ]\n",
            "  [0.        ]\n",
            "  [0.        ]\n",
            "  [0.        ]\n",
            "  [0.07058824]\n",
            "  [0.14117647]\n",
            "  [0.14509804]\n",
            "  [0.1254902 ]\n",
            "  [0.03529412]\n",
            "  [0.01960784]\n",
            "  [0.01568627]\n",
            "  [0.00784314]\n",
            "  [0.        ]\n",
            "  [0.        ]\n",
            "  [0.00784314]\n",
            "  [0.05098039]\n",
            "  [0.20784314]\n",
            "  [0.87058824]\n",
            "  [0.99607843]\n",
            "  [0.84313725]\n",
            "  [0.14509804]\n",
            "  [0.        ]\n",
            "  [0.        ]]\n",
            "\n",
            " [[0.        ]\n",
            "  [0.        ]\n",
            "  [0.        ]\n",
            "  [0.        ]\n",
            "  [0.        ]\n",
            "  [0.        ]\n",
            "  [0.        ]\n",
            "  [0.        ]\n",
            "  [0.        ]\n",
            "  [0.        ]\n",
            "  [0.        ]\n",
            "  [0.        ]\n",
            "  [0.        ]\n",
            "  [0.        ]\n",
            "  [0.        ]\n",
            "  [0.        ]\n",
            "  [0.        ]\n",
            "  [0.        ]\n",
            "  [0.        ]\n",
            "  [0.        ]\n",
            "  [0.03529412]\n",
            "  [0.2       ]\n",
            "  [0.87058824]\n",
            "  [0.99607843]\n",
            "  [0.84313725]\n",
            "  [0.14509804]\n",
            "  [0.        ]\n",
            "  [0.        ]]\n",
            "\n",
            " [[0.        ]\n",
            "  [0.        ]\n",
            "  [0.        ]\n",
            "  [0.        ]\n",
            "  [0.        ]\n",
            "  [0.        ]\n",
            "  [0.        ]\n",
            "  [0.        ]\n",
            "  [0.        ]\n",
            "  [0.        ]\n",
            "  [0.        ]\n",
            "  [0.        ]\n",
            "  [0.        ]\n",
            "  [0.        ]\n",
            "  [0.        ]\n",
            "  [0.        ]\n",
            "  [0.        ]\n",
            "  [0.        ]\n",
            "  [0.        ]\n",
            "  [0.        ]\n",
            "  [0.13333333]\n",
            "  [0.45098039]\n",
            "  [0.96078431]\n",
            "  [0.98823529]\n",
            "  [0.6745098 ]\n",
            "  [0.08235294]\n",
            "  [0.        ]\n",
            "  [0.        ]]\n",
            "\n",
            " [[0.        ]\n",
            "  [0.        ]\n",
            "  [0.        ]\n",
            "  [0.        ]\n",
            "  [0.        ]\n",
            "  [0.        ]\n",
            "  [0.        ]\n",
            "  [0.        ]\n",
            "  [0.        ]\n",
            "  [0.        ]\n",
            "  [0.        ]\n",
            "  [0.        ]\n",
            "  [0.        ]\n",
            "  [0.        ]\n",
            "  [0.        ]\n",
            "  [0.        ]\n",
            "  [0.        ]\n",
            "  [0.        ]\n",
            "  [0.        ]\n",
            "  [0.01176471]\n",
            "  [0.32941176]\n",
            "  [0.6745098 ]\n",
            "  [0.98823529]\n",
            "  [0.97647059]\n",
            "  [0.49803922]\n",
            "  [0.01960784]\n",
            "  [0.        ]\n",
            "  [0.        ]]\n",
            "\n",
            " [[0.        ]\n",
            "  [0.        ]\n",
            "  [0.        ]\n",
            "  [0.        ]\n",
            "  [0.        ]\n",
            "  [0.        ]\n",
            "  [0.        ]\n",
            "  [0.        ]\n",
            "  [0.        ]\n",
            "  [0.        ]\n",
            "  [0.        ]\n",
            "  [0.        ]\n",
            "  [0.        ]\n",
            "  [0.        ]\n",
            "  [0.        ]\n",
            "  [0.        ]\n",
            "  [0.        ]\n",
            "  [0.        ]\n",
            "  [0.        ]\n",
            "  [0.03921569]\n",
            "  [0.50196078]\n",
            "  [0.81568627]\n",
            "  [0.99607843]\n",
            "  [0.95294118]\n",
            "  [0.44313725]\n",
            "  [0.01568627]\n",
            "  [0.        ]\n",
            "  [0.        ]]\n",
            "\n",
            " [[0.        ]\n",
            "  [0.        ]\n",
            "  [0.        ]\n",
            "  [0.        ]\n",
            "  [0.        ]\n",
            "  [0.        ]\n",
            "  [0.        ]\n",
            "  [0.        ]\n",
            "  [0.        ]\n",
            "  [0.        ]\n",
            "  [0.        ]\n",
            "  [0.        ]\n",
            "  [0.        ]\n",
            "  [0.        ]\n",
            "  [0.        ]\n",
            "  [0.        ]\n",
            "  [0.        ]\n",
            "  [0.        ]\n",
            "  [0.01568627]\n",
            "  [0.30980392]\n",
            "  [0.8627451 ]\n",
            "  [0.96862745]\n",
            "  [0.96862745]\n",
            "  [0.63921569]\n",
            "  [0.12941176]\n",
            "  [0.        ]\n",
            "  [0.        ]\n",
            "  [0.        ]]\n",
            "\n",
            " [[0.        ]\n",
            "  [0.        ]\n",
            "  [0.        ]\n",
            "  [0.        ]\n",
            "  [0.        ]\n",
            "  [0.        ]\n",
            "  [0.        ]\n",
            "  [0.        ]\n",
            "  [0.00784314]\n",
            "  [0.01568627]\n",
            "  [0.01960784]\n",
            "  [0.08235294]\n",
            "  [0.14509804]\n",
            "  [0.14509804]\n",
            "  [0.14509804]\n",
            "  [0.14509804]\n",
            "  [0.14509804]\n",
            "  [0.15294118]\n",
            "  [0.32941176]\n",
            "  [0.73333333]\n",
            "  [0.98431373]\n",
            "  [0.99607843]\n",
            "  [0.8627451 ]\n",
            "  [0.20392157]\n",
            "  [0.00392157]\n",
            "  [0.        ]\n",
            "  [0.        ]\n",
            "  [0.        ]]\n",
            "\n",
            " [[0.        ]\n",
            "  [0.        ]\n",
            "  [0.        ]\n",
            "  [0.        ]\n",
            "  [0.        ]\n",
            "  [0.00392157]\n",
            "  [0.07843137]\n",
            "  [0.13333333]\n",
            "  [0.32156863]\n",
            "  [0.49019608]\n",
            "  [0.50588235]\n",
            "  [0.6745098 ]\n",
            "  [0.84313725]\n",
            "  [0.85098039]\n",
            "  [0.85098039]\n",
            "  [0.85098039]\n",
            "  [0.85098039]\n",
            "  [0.85098039]\n",
            "  [0.91372549]\n",
            "  [0.98823529]\n",
            "  [0.97647059]\n",
            "  [0.91764706]\n",
            "  [0.60392157]\n",
            "  [0.07843137]\n",
            "  [0.        ]\n",
            "  [0.        ]\n",
            "  [0.        ]\n",
            "  [0.        ]]\n",
            "\n",
            " [[0.        ]\n",
            "  [0.        ]\n",
            "  [0.        ]\n",
            "  [0.        ]\n",
            "  [0.01960784]\n",
            "  [0.18431373]\n",
            "  [0.62352941]\n",
            "  [0.79215686]\n",
            "  [0.91372549]\n",
            "  [0.97647059]\n",
            "  [0.98039216]\n",
            "  [0.98823529]\n",
            "  [0.99607843]\n",
            "  [0.99607843]\n",
            "  [0.99607843]\n",
            "  [0.99607843]\n",
            "  [0.99607843]\n",
            "  [0.99607843]\n",
            "  [0.99607843]\n",
            "  [0.99607843]\n",
            "  [0.87058824]\n",
            "  [0.56862745]\n",
            "  [0.09411765]\n",
            "  [0.00392157]\n",
            "  [0.        ]\n",
            "  [0.        ]\n",
            "  [0.        ]\n",
            "  [0.        ]]\n",
            "\n",
            " [[0.        ]\n",
            "  [0.        ]\n",
            "  [0.        ]\n",
            "  [0.00392157]\n",
            "  [0.18431373]\n",
            "  [0.76470588]\n",
            "  [0.96862745]\n",
            "  [0.98823529]\n",
            "  [0.96078431]\n",
            "  [0.87058824]\n",
            "  [0.85098039]\n",
            "  [0.85098039]\n",
            "  [0.85098039]\n",
            "  [0.85490196]\n",
            "  [0.87843137]\n",
            "  [0.98039216]\n",
            "  [0.99607843]\n",
            "  [1.        ]\n",
            "  [1.        ]\n",
            "  [0.99607843]\n",
            "  [0.85098039]\n",
            "  [0.50588235]\n",
            "  [0.01960784]\n",
            "  [0.        ]\n",
            "  [0.        ]\n",
            "  [0.        ]\n",
            "  [0.        ]\n",
            "  [0.        ]]\n",
            "\n",
            " [[0.        ]\n",
            "  [0.        ]\n",
            "  [0.        ]\n",
            "  [0.03137255]\n",
            "  [0.37254902]\n",
            "  [0.90588235]\n",
            "  [0.98823529]\n",
            "  [0.96862745]\n",
            "  [0.81568627]\n",
            "  [0.54901961]\n",
            "  [0.49803922]\n",
            "  [0.49803922]\n",
            "  [0.49803922]\n",
            "  [0.53333333]\n",
            "  [0.63137255]\n",
            "  [0.94509804]\n",
            "  [0.99607843]\n",
            "  [0.99607843]\n",
            "  [0.99607843]\n",
            "  [0.99607843]\n",
            "  [0.87058824]\n",
            "  [0.55294118]\n",
            "  [0.04313725]\n",
            "  [0.        ]\n",
            "  [0.        ]\n",
            "  [0.        ]\n",
            "  [0.        ]\n",
            "  [0.        ]]\n",
            "\n",
            " [[0.        ]\n",
            "  [0.        ]\n",
            "  [0.01176471]\n",
            "  [0.30980392]\n",
            "  [0.85490196]\n",
            "  [0.98039216]\n",
            "  [0.85490196]\n",
            "  [0.63921569]\n",
            "  [0.18431373]\n",
            "  [0.03529412]\n",
            "  [0.01568627]\n",
            "  [0.02745098]\n",
            "  [0.05882353]\n",
            "  [0.37647059]\n",
            "  [0.65882353]\n",
            "  [0.97254902]\n",
            "  [0.99607843]\n",
            "  [0.96470588]\n",
            "  [0.9372549 ]\n",
            "  [0.99215686]\n",
            "  [0.96862745]\n",
            "  [0.86666667]\n",
            "  [0.35686275]\n",
            "  [0.02745098]\n",
            "  [0.        ]\n",
            "  [0.        ]\n",
            "  [0.        ]\n",
            "  [0.        ]]\n",
            "\n",
            " [[0.        ]\n",
            "  [0.        ]\n",
            "  [0.08235294]\n",
            "  [0.66666667]\n",
            "  [0.97254902]\n",
            "  [0.73333333]\n",
            "  [0.30980392]\n",
            "  [0.12941176]\n",
            "  [0.00392157]\n",
            "  [0.        ]\n",
            "  [0.02352941]\n",
            "  [0.25882353]\n",
            "  [0.54509804]\n",
            "  [0.86666667]\n",
            "  [0.96470588]\n",
            "  [0.99215686]\n",
            "  [0.87058824]\n",
            "  [0.50588235]\n",
            "  [0.42745098]\n",
            "  [0.86666667]\n",
            "  [0.99215686]\n",
            "  [0.99215686]\n",
            "  [0.79215686]\n",
            "  [0.13333333]\n",
            "  [0.        ]\n",
            "  [0.        ]\n",
            "  [0.        ]\n",
            "  [0.        ]]\n",
            "\n",
            " [[0.        ]\n",
            "  [0.        ]\n",
            "  [0.14509804]\n",
            "  [0.84313725]\n",
            "  [0.91764706]\n",
            "  [0.3372549 ]\n",
            "  [0.01960784]\n",
            "  [0.00392157]\n",
            "  [0.01568627]\n",
            "  [0.13333333]\n",
            "  [0.45098039]\n",
            "  [0.7372549 ]\n",
            "  [0.97254902]\n",
            "  [0.99607843]\n",
            "  [0.99215686]\n",
            "  [0.90588235]\n",
            "  [0.48235294]\n",
            "  [0.04705882]\n",
            "  [0.04313725]\n",
            "  [0.48235294]\n",
            "  [0.90588235]\n",
            "  [0.96862745]\n",
            "  [0.91372549]\n",
            "  [0.32156863]\n",
            "  [0.00784314]\n",
            "  [0.        ]\n",
            "  [0.        ]\n",
            "  [0.        ]]\n",
            "\n",
            " [[0.        ]\n",
            "  [0.        ]\n",
            "  [0.14509804]\n",
            "  [0.85098039]\n",
            "  [0.91764706]\n",
            "  [0.40392157]\n",
            "  [0.16078431]\n",
            "  [0.2       ]\n",
            "  [0.45098039]\n",
            "  [0.69411765]\n",
            "  [0.95294118]\n",
            "  [0.98823529]\n",
            "  [0.99215686]\n",
            "  [0.90980392]\n",
            "  [0.81176471]\n",
            "  [0.37254902]\n",
            "  [0.07843137]\n",
            "  [0.        ]\n",
            "  [0.        ]\n",
            "  [0.07843137]\n",
            "  [0.37254902]\n",
            "  [0.62352941]\n",
            "  [0.82352941]\n",
            "  [0.41568627]\n",
            "  [0.01176471]\n",
            "  [0.        ]\n",
            "  [0.        ]\n",
            "  [0.        ]]\n",
            "\n",
            " [[0.        ]\n",
            "  [0.        ]\n",
            "  [0.14509804]\n",
            "  [0.84313725]\n",
            "  [0.96862745]\n",
            "  [0.69803922]\n",
            "  [0.50980392]\n",
            "  [0.54901961]\n",
            "  [0.8       ]\n",
            "  [0.91764706]\n",
            "  [0.99215686]\n",
            "  [0.98823529]\n",
            "  [0.95294118]\n",
            "  [0.68627451]\n",
            "  [0.49803922]\n",
            "  [0.13333333]\n",
            "  [0.01176471]\n",
            "  [0.        ]\n",
            "  [0.        ]\n",
            "  [0.01176471]\n",
            "  [0.13333333]\n",
            "  [0.30196078]\n",
            "  [0.48235294]\n",
            "  [0.24705882]\n",
            "  [0.00784314]\n",
            "  [0.        ]\n",
            "  [0.        ]\n",
            "  [0.        ]]\n",
            "\n",
            " [[0.        ]\n",
            "  [0.        ]\n",
            "  [0.08235294]\n",
            "  [0.66666667]\n",
            "  [0.98039216]\n",
            "  [0.98823529]\n",
            "  [0.98039216]\n",
            "  [0.98039216]\n",
            "  [0.98431373]\n",
            "  [0.96078431]\n",
            "  [0.8627451 ]\n",
            "  [0.6745098 ]\n",
            "  [0.45098039]\n",
            "  [0.13333333]\n",
            "  [0.03921569]\n",
            "  [0.        ]\n",
            "  [0.        ]\n",
            "  [0.        ]\n",
            "  [0.        ]\n",
            "  [0.        ]\n",
            "  [0.        ]\n",
            "  [0.00784314]\n",
            "  [0.01568627]\n",
            "  [0.00784314]\n",
            "  [0.        ]\n",
            "  [0.        ]\n",
            "  [0.        ]\n",
            "  [0.        ]]\n",
            "\n",
            " [[0.        ]\n",
            "  [0.        ]\n",
            "  [0.00784314]\n",
            "  [0.2627451 ]\n",
            "  [0.66666667]\n",
            "  [0.84313725]\n",
            "  [0.85098039]\n",
            "  [0.84313725]\n",
            "  [0.6745098 ]\n",
            "  [0.45098039]\n",
            "  [0.19607843]\n",
            "  [0.08235294]\n",
            "  [0.01568627]\n",
            "  [0.        ]\n",
            "  [0.        ]\n",
            "  [0.        ]\n",
            "  [0.        ]\n",
            "  [0.        ]\n",
            "  [0.        ]\n",
            "  [0.        ]\n",
            "  [0.        ]\n",
            "  [0.        ]\n",
            "  [0.        ]\n",
            "  [0.        ]\n",
            "  [0.        ]\n",
            "  [0.        ]\n",
            "  [0.        ]\n",
            "  [0.        ]]\n",
            "\n",
            " [[0.        ]\n",
            "  [0.        ]\n",
            "  [0.        ]\n",
            "  [0.00784314]\n",
            "  [0.08235294]\n",
            "  [0.14509804]\n",
            "  [0.14509804]\n",
            "  [0.14509804]\n",
            "  [0.08235294]\n",
            "  [0.01568627]\n",
            "  [0.        ]\n",
            "  [0.        ]\n",
            "  [0.        ]\n",
            "  [0.        ]\n",
            "  [0.        ]\n",
            "  [0.        ]\n",
            "  [0.        ]\n",
            "  [0.        ]\n",
            "  [0.        ]\n",
            "  [0.        ]\n",
            "  [0.        ]\n",
            "  [0.        ]\n",
            "  [0.        ]\n",
            "  [0.        ]\n",
            "  [0.        ]\n",
            "  [0.        ]\n",
            "  [0.        ]\n",
            "  [0.        ]]\n",
            "\n",
            " [[0.        ]\n",
            "  [0.        ]\n",
            "  [0.        ]\n",
            "  [0.        ]\n",
            "  [0.        ]\n",
            "  [0.        ]\n",
            "  [0.        ]\n",
            "  [0.        ]\n",
            "  [0.        ]\n",
            "  [0.        ]\n",
            "  [0.        ]\n",
            "  [0.        ]\n",
            "  [0.        ]\n",
            "  [0.        ]\n",
            "  [0.        ]\n",
            "  [0.        ]\n",
            "  [0.        ]\n",
            "  [0.        ]\n",
            "  [0.        ]\n",
            "  [0.        ]\n",
            "  [0.        ]\n",
            "  [0.        ]\n",
            "  [0.        ]\n",
            "  [0.        ]\n",
            "  [0.        ]\n",
            "  [0.        ]\n",
            "  [0.        ]\n",
            "  [0.        ]]\n",
            "\n",
            " [[0.        ]\n",
            "  [0.        ]\n",
            "  [0.        ]\n",
            "  [0.        ]\n",
            "  [0.        ]\n",
            "  [0.        ]\n",
            "  [0.        ]\n",
            "  [0.        ]\n",
            "  [0.        ]\n",
            "  [0.        ]\n",
            "  [0.        ]\n",
            "  [0.        ]\n",
            "  [0.        ]\n",
            "  [0.        ]\n",
            "  [0.        ]\n",
            "  [0.        ]\n",
            "  [0.        ]\n",
            "  [0.        ]\n",
            "  [0.        ]\n",
            "  [0.        ]\n",
            "  [0.        ]\n",
            "  [0.        ]\n",
            "  [0.        ]\n",
            "  [0.        ]\n",
            "  [0.        ]\n",
            "  [0.        ]\n",
            "  [0.        ]\n",
            "  [0.        ]]]\n",
            "b'{\"statusCode\":1,\"result\":\"{\\\\\"output\\\\\": [0.0000,0.0000,0.9999,0.0000,0.0000,0.0000,0.0000,0.0000,0.0000,0.0000]}\",\"tid\":\"sclblt-34e77475-51e7-11eb-962f-9600004e79cc-91\",\"message\":\"ComputeNode assigned successfully. Result returned and available at https://taskmanager.sclbl.net:8080/retrieve/sclblt-34e77475-51e7-11eb-962f-9600004e79cc-91\",\"timeOut\":false,\"resultUrl\":\"https://taskmanager.sclbl.net:8080/retrieve/sclblt-34e77475-51e7-11eb-962f-9600004e79cc-91\"}\\n'\n",
            "Expected result: 2\n"
          ]
        }
      ],
      "execution_count": 27,
      "metadata": {
        "collapsed": true,
        "jupyter": {
          "source_hidden": false,
          "outputs_hidden": false
        },
        "nteract": {
          "transient": {
            "deleting": false
          }
        },
        "execution": {
          "iopub.status.busy": "2021-01-10T12:31:33.114Z",
          "iopub.execute_input": "2021-01-10T12:31:33.126Z",
          "iopub.status.idle": "2021-01-10T12:31:33.261Z",
          "shell.execute_reply": "2021-01-10T12:31:33.300Z"
        }
      }
    },
    {
      "cell_type": "markdown",
      "source": [
        "### ... or with raw input"
      ],
      "metadata": {
        "nteract": {
          "transient": {
            "deleting": false
          }
        }
      }
    },
    {
      "cell_type": "code",
      "source": [
        "# serialize and base64 encode raw input\n",
        "\n",
        "xc = X_test[127]\n",
        "xc = xc.astype('float32')\n",
        "raw = xc.tobytes();\n",
        "encoded = base64.b64encode(raw)\n",
        "\n",
        "# then test the model on a sclbl.net cloud server\n",
        "\n",
        "url = \"https://taskmanager.sclbl.net:8080/task/34e77475-51e7-11eb-962f-9600004e79cc\"\n",
        "payload = \"{\\\"input\\\":{\\\"content-type\\\":\\\"json\\\",\\\"location\\\":\\\"embedded\\\",\\\"data\\\":\\\"{\\\\\\\"type\\\\\\\":\\\\\\\"raw\\\\\\\",\\\\\\\"input\\\\\\\": \\\\\\\"\" + encoded.decode('ascii') + \"\\\\\\\"}\\\"},\\\"output\\\":{\\\"content-type\\\":\\\"json\\\",\\\"location\\\":\\\"echo\\\"},\\\"control\\\":1,\\\"properties\\\":{\\\"language\\\":\\\"WASM\\\"}}\"\n",
        "\n",
        "response = requests.request(\"POST\", url, data = payload)\n",
        "\n",
        "print(response.text.encode('utf8'))\n",
        "print(\"Expected result: \" + str(np.argmax(y_test[127])))\n",
        "\n",
        "print(encoded.decode('ascii'))"
      ],
      "outputs": [
        {
          "output_type": "stream",
          "name": "stdout",
          "text": [
            "b'{\"statusCode\":1,\"result\":\"{\\\\\"output\\\\\": [0.0000,0.0000,0.9999,0.0000,0.0000,0.0000,0.0000,0.0000,0.0000,0.0000]}\",\"tid\":\"sclblt-34e77475-51e7-11eb-962f-9600004e79cc-92\",\"message\":\"ComputeNode assigned successfully. Result returned and available at https://taskmanager.sclbl.net:8080/retrieve/sclblt-34e77475-51e7-11eb-962f-9600004e79cc-92\",\"timeOut\":false,\"resultUrl\":\"https://taskmanager.sclbl.net:8080/retrieve/sclblt-34e77475-51e7-11eb-962f-9600004e79cc-92\"}\\n'\n",
            "Expected result: 2\n",
            "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\n"
          ]
        }
      ],
      "execution_count": 28,
      "metadata": {
        "collapsed": true,
        "jupyter": {
          "source_hidden": false,
          "outputs_hidden": false
        },
        "nteract": {
          "transient": {
            "deleting": false
          }
        },
        "execution": {
          "iopub.status.busy": "2021-01-10T12:35:04.500Z",
          "iopub.execute_input": "2021-01-10T12:35:04.511Z",
          "iopub.status.idle": "2021-01-10T12:35:04.648Z",
          "shell.execute_reply": "2021-01-10T12:35:04.637Z"
        }
      }
    }
  ],
  "metadata": {
    "kernelspec": {
      "display_name": "Python 3",
      "language": "python",
      "name": "python3"
    },
    "language_info": {
      "name": "python",
      "version": "3.7.8",
      "mimetype": "text/x-python",
      "codemirror_mode": {
        "name": "ipython",
        "version": 3
      },
      "pygments_lexer": "ipython3",
      "nbconvert_exporter": "python",
      "file_extension": ".py"
    },
    "nteract": {
      "version": "0.27.0"
    }
  },
  "nbformat": 4,
  "nbformat_minor": 1
}